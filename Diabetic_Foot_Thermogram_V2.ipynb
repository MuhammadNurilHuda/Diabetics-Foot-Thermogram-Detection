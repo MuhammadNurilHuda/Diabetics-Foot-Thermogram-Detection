{
  "nbformat": 4,
  "nbformat_minor": 0,
  "metadata": {
    "colab": {
      "name": "Diabetic Foot Thermogram V2.ipynb",
      "provenance": [],
      "collapsed_sections": [],
      "include_colab_link": true
    },
    "kernelspec": {
      "name": "python3",
      "display_name": "Python 3"
    },
    "language_info": {
      "name": "python"
    }
  },
  "cells": [
    {
      "cell_type": "markdown",
      "metadata": {
        "id": "view-in-github",
        "colab_type": "text"
      },
      "source": [
        "<a href=\"https://colab.research.google.com/github/MuhammadNurilHuda/MachineLearningProject/blob/main/Diabetic_Foot_Thermogram_V2.ipynb\" target=\"_parent\"><img src=\"https://colab.research.google.com/assets/colab-badge.svg\" alt=\"Open In Colab\"/></a>"
      ]
    },
    {
      "cell_type": "code",
      "metadata": {
        "id": "ib9w-zE6YMou"
      },
      "source": [
        "!wget -O Dataset2.zip https://github.com/MuhammadNurilHuda/MachineLearningProject/blob/main/Dataset/Dataset2.zip?raw=true"
      ],
      "execution_count": null,
      "outputs": []
    },
    {
      "cell_type": "code",
      "metadata": {
        "id": "Gy2_r3mZYUcO"
      },
      "source": [
        "import zipfile, os\n",
        "\n",
        "local_zip = '/content/Dataset2.zip'\n",
        "zip_ref = zipfile.ZipFile(local_zip, 'r')\n",
        "zip_ref.extractall('Dataset2')\n",
        "zip_ref.close()"
      ],
      "execution_count": null,
      "outputs": []
    },
    {
      "cell_type": "code",
      "metadata": {
        "colab": {
          "base_uri": "https://localhost:8080/"
        },
        "id": "GvrONohhYrB2",
        "outputId": "9ca6949e-16b4-4f0c-faee-a7f4a081180a"
      },
      "source": [
        "pip install split-folders"
      ],
      "execution_count": null,
      "outputs": [
        {
          "output_type": "stream",
          "name": "stdout",
          "text": [
            "Collecting split-folders\n",
            "  Downloading split_folders-0.4.3-py3-none-any.whl (7.4 kB)\n",
            "Installing collected packages: split-folders\n",
            "Successfully installed split-folders-0.4.3\n"
          ]
        }
      ]
    },
    {
      "cell_type": "code",
      "metadata": {
        "colab": {
          "base_uri": "https://localhost:8080/"
        },
        "id": "o7IRYhEzYzOG",
        "outputId": "f555bc21-59d2-4693-e2ae-9049360cf0ef"
      },
      "source": [
        "import splitfolders\n",
        "\n",
        "splitfolders.ratio('/content/Dataset2/Dataset', output=\"Dataset2_split\", seed=42, ratio=(.85, .14, .01), group_prefix=None)"
      ],
      "execution_count": null,
      "outputs": [
        {
          "output_type": "stream",
          "name": "stderr",
          "text": [
            "Copying files: 334 files [00:00, 7424.33 files/s]\n"
          ]
        }
      ]
    },
    {
      "cell_type": "code",
      "metadata": {
        "id": "gbmxsPkeYzW3"
      },
      "source": [
        "import os\n",
        "# base_dir = '/content/Dataset2_split'\n",
        "base_dir = 'Dataset2_split'"
      ],
      "execution_count": null,
      "outputs": []
    },
    {
      "cell_type": "code",
      "metadata": {
        "id": "a6krjJYfZ55l"
      },
      "source": [
        "train_dir = os.path.join(base_dir, 'train')\n",
        "val_dir = os.path.join(base_dir, 'val')\n",
        "test_dir = os.path.join(base_dir, 'test')"
      ],
      "execution_count": null,
      "outputs": []
    },
    {
      "cell_type": "code",
      "metadata": {
        "id": "tDXs-BocYzac"
      },
      "source": [
        "train_positif = os.path.join(train_dir, 'Positif')\n",
        "train_negatif = os.path.join(train_dir, 'Negatif')"
      ],
      "execution_count": null,
      "outputs": []
    },
    {
      "cell_type": "code",
      "metadata": {
        "id": "VU8Lc9dpYzd-"
      },
      "source": [
        "val_positif = os.path.join(val_dir, 'Positif')\n",
        "val_negatif = os.path.join(val_dir, 'Negatif')"
      ],
      "execution_count": null,
      "outputs": []
    },
    {
      "cell_type": "code",
      "metadata": {
        "id": "K0bh2diAYzhO"
      },
      "source": [
        "test_positif = os.path.join(test_dir, 'Positif')\n",
        "test_negatif = os.path.join(test_dir, 'Negatif')"
      ],
      "execution_count": null,
      "outputs": []
    },
    {
      "cell_type": "code",
      "metadata": {
        "colab": {
          "base_uri": "https://localhost:8080/"
        },
        "id": "kz8hLwYgYzkZ",
        "outputId": "69e2da39-1951-4f06-cd25-7317178210ec"
      },
      "source": [
        "print('total training positif images:', len(os.listdir(train_positif)))\n",
        "print('total training negatif images:', len(os.listdir(train_negatif)))"
      ],
      "execution_count": null,
      "outputs": [
        {
          "output_type": "stream",
          "name": "stdout",
          "text": [
            "total training positif images: 207\n",
            "total training negatif images: 76\n"
          ]
        }
      ]
    },
    {
      "cell_type": "code",
      "metadata": {
        "colab": {
          "base_uri": "https://localhost:8080/"
        },
        "id": "ZZ3Q3OHbYzn-",
        "outputId": "b6e24c11-edb2-4eb7-d07d-28d7e3800600"
      },
      "source": [
        "print('total validation positif images:', len(os.listdir(val_positif)))\n",
        "print('total validation negatif images:', len(os.listdir(val_negatif)))"
      ],
      "execution_count": null,
      "outputs": [
        {
          "output_type": "stream",
          "name": "stdout",
          "text": [
            "total validation positif images: 34\n",
            "total validation negatif images: 12\n"
          ]
        }
      ]
    },
    {
      "cell_type": "code",
      "metadata": {
        "colab": {
          "base_uri": "https://localhost:8080/"
        },
        "id": "OLElcTHVYzrf",
        "outputId": "5c16c512-7067-45cd-aa0a-07250a4b2d00"
      },
      "source": [
        "print('total test positif images:', len(os.listdir(test_positif)))\n",
        "print('total test negatif images:', len(os.listdir(test_negatif)))"
      ],
      "execution_count": null,
      "outputs": [
        {
          "output_type": "stream",
          "name": "stdout",
          "text": [
            "total test positif images: 3\n",
            "total test negatif images: 2\n"
          ]
        }
      ]
    },
    {
      "cell_type": "code",
      "metadata": {
        "id": "6NWrZ4CjYzui"
      },
      "source": [
        "from tensorflow.keras.preprocessing.image import ImageDataGenerator\n",
        "\n",
        "train_datagen = ImageDataGenerator(\n",
        "    rescale=1./225,\n",
        "    rotation_range=20,\n",
        "    horizontal_flip=True,\n",
        "    shear_range=0.2,\n",
        "    zoom_range=0.2,\n",
        ")\n",
        "\n",
        "val_datagen = ImageDataGenerator(\n",
        "    rescale=1./255\n",
        ")"
      ],
      "execution_count": null,
      "outputs": []
    },
    {
      "cell_type": "code",
      "metadata": {
        "colab": {
          "base_uri": "https://localhost:8080/"
        },
        "id": "0Z0xHNL-Yzx0",
        "outputId": "88d40532-0a9e-4e39-ab38-63582e7279b9"
      },
      "source": [
        "train_generator = train_datagen.flow_from_directory(\n",
        "    train_dir,\n",
        "    target_size=(250,250),\n",
        "    batch_size=32,\n",
        "    class_mode='binary',\n",
        "    color_mode='grayscale',\n",
        "    shuffle=True\n",
        ")\n",
        "\n",
        "val_generator = val_datagen.flow_from_directory(\n",
        "    val_dir,\n",
        "    target_size=(250,250),\n",
        "    batch_size=32,\n",
        "    class_mode='binary',\n",
        "    color_mode='grayscale',\n",
        "    shuffle=True\n",
        ")\n",
        "\n",
        "test_generator = val_datagen.flow_from_directory(\n",
        "    test_dir,\n",
        "    target_size=(250,250),\n",
        "    batch_size=32,\n",
        "    class_mode='binary',\n",
        "    color_mode='grayscale',\n",
        "    shuffle=True\n",
        ")"
      ],
      "execution_count": null,
      "outputs": [
        {
          "output_type": "stream",
          "name": "stdout",
          "text": [
            "Found 283 images belonging to 2 classes.\n",
            "Found 46 images belonging to 2 classes.\n",
            "Found 5 images belonging to 2 classes.\n"
          ]
        }
      ]
    },
    {
      "cell_type": "code",
      "metadata": {
        "colab": {
          "base_uri": "https://localhost:8080/"
        },
        "id": "TrXTKBXQYz0z",
        "outputId": "b69053a9-5de2-44ae-e728-e611f3e609d5"
      },
      "source": [
        "import tensorflow as tf\n",
        "from tensorflow.keras.models import Sequential\n",
        "from tensorflow.keras.layers import Dense, Dropout, Conv2D, Activation, Flatten, MaxPool2D, BatchNormalization\n",
        "from tensorflow.keras.optimizers import Adam, RMSprop\n",
        "\n",
        "model1 = Sequential([\n",
        "                     Conv2D(32, kernel_size=3, activation='relu', input_shape=(250, 250, 1)),\n",
        "                     MaxPool2D(2,2),\n",
        "\n",
        "                     Conv2D(64, kernel_size=3, activation='relu'),\n",
        "                     MaxPool2D(2,2),\n",
        "                     BatchNormalization(),\n",
        "\n",
        "                     Conv2D(128, kernel_size=3, activation='relu'),\n",
        "                     MaxPool2D(2,2),\n",
        "\n",
        "                     Conv2D(256, kernel_size=3, activation='relu'),\n",
        "                     MaxPool2D(2,2),\n",
        "\n",
        "                     Dropout(0.25),\n",
        "\n",
        "                     Flatten(),\n",
        "\n",
        "                     Dense(128, activation='relu'),\n",
        "                     Dense(1, activation='sigmoid')\n",
        "])\n",
        "\n",
        "model1.summary()"
      ],
      "execution_count": null,
      "outputs": [
        {
          "output_type": "stream",
          "name": "stdout",
          "text": [
            "Model: \"sequential\"\n",
            "_________________________________________________________________\n",
            " Layer (type)                Output Shape              Param #   \n",
            "=================================================================\n",
            " conv2d (Conv2D)             (None, 248, 248, 32)      320       \n",
            "                                                                 \n",
            " max_pooling2d (MaxPooling2D  (None, 124, 124, 32)     0         \n",
            " )                                                               \n",
            "                                                                 \n",
            " conv2d_1 (Conv2D)           (None, 122, 122, 64)      18496     \n",
            "                                                                 \n",
            " max_pooling2d_1 (MaxPooling  (None, 61, 61, 64)       0         \n",
            " 2D)                                                             \n",
            "                                                                 \n",
            " batch_normalization (BatchN  (None, 61, 61, 64)       256       \n",
            " ormalization)                                                   \n",
            "                                                                 \n",
            " conv2d_2 (Conv2D)           (None, 59, 59, 128)       73856     \n",
            "                                                                 \n",
            " max_pooling2d_2 (MaxPooling  (None, 29, 29, 128)      0         \n",
            " 2D)                                                             \n",
            "                                                                 \n",
            " conv2d_3 (Conv2D)           (None, 27, 27, 256)       295168    \n",
            "                                                                 \n",
            " max_pooling2d_3 (MaxPooling  (None, 13, 13, 256)      0         \n",
            " 2D)                                                             \n",
            "                                                                 \n",
            " dropout (Dropout)           (None, 13, 13, 256)       0         \n",
            "                                                                 \n",
            " flatten (Flatten)           (None, 43264)             0         \n",
            "                                                                 \n",
            " dense (Dense)               (None, 128)               5537920   \n",
            "                                                                 \n",
            " dense_1 (Dense)             (None, 1)                 129       \n",
            "                                                                 \n",
            "=================================================================\n",
            "Total params: 5,926,145\n",
            "Trainable params: 5,926,017\n",
            "Non-trainable params: 128\n",
            "_________________________________________________________________\n"
          ]
        }
      ]
    },
    {
      "cell_type": "code",
      "metadata": {
        "id": "MxprdAs-Yz4I"
      },
      "source": [
        "model1.compile(loss='binary_crossentropy',\n",
        "              optimizer=Adam(learning_rate=0.0001),\n",
        "              metrics=['accuracy'])"
      ],
      "execution_count": null,
      "outputs": []
    },
    {
      "cell_type": "code",
      "metadata": {
        "colab": {
          "base_uri": "https://localhost:8080/"
        },
        "id": "6r7GLHNQYz7K",
        "outputId": "0758a262-4c24-493f-8455-60af5b5d676a"
      },
      "source": [
        "import time\n",
        "\n",
        "start=time.time()\n",
        "history = model1.fit(train_generator,\n",
        "          epochs=100,\n",
        "          validation_data=val_generator,\n",
        "          verbose=1)"
      ],
      "execution_count": null,
      "outputs": [
        {
          "output_type": "stream",
          "name": "stdout",
          "text": [
            "Epoch 1/100\n",
            "9/9 [==============================] - 12s 1s/step - loss: 0.7504 - accuracy: 0.6855 - val_loss: 0.6841 - val_accuracy: 0.7391\n",
            "Epoch 2/100\n",
            "9/9 [==============================] - 10s 1s/step - loss: 0.5677 - accuracy: 0.7314 - val_loss: 0.6704 - val_accuracy: 0.7391\n",
            "Epoch 3/100\n",
            "9/9 [==============================] - 10s 1s/step - loss: 0.5382 - accuracy: 0.7314 - val_loss: 0.6765 - val_accuracy: 0.7391\n",
            "Epoch 4/100\n",
            "9/9 [==============================] - 9s 984ms/step - loss: 0.5305 - accuracy: 0.7314 - val_loss: 0.6730 - val_accuracy: 0.7391\n",
            "Epoch 5/100\n",
            "9/9 [==============================] - 9s 1s/step - loss: 0.5084 - accuracy: 0.7314 - val_loss: 0.6675 - val_accuracy: 0.7391\n",
            "Epoch 6/100\n",
            "9/9 [==============================] - 10s 1s/step - loss: 0.4898 - accuracy: 0.7420 - val_loss: 0.6664 - val_accuracy: 0.7391\n",
            "Epoch 7/100\n",
            "9/9 [==============================] - 11s 1s/step - loss: 0.4757 - accuracy: 0.7350 - val_loss: 0.6643 - val_accuracy: 0.7609\n",
            "Epoch 8/100\n",
            "9/9 [==============================] - 12s 1s/step - loss: 0.4606 - accuracy: 0.7809 - val_loss: 0.6506 - val_accuracy: 0.7391\n",
            "Epoch 9/100\n",
            "9/9 [==============================] - 11s 1s/step - loss: 0.4397 - accuracy: 0.7668 - val_loss: 0.6572 - val_accuracy: 0.8261\n",
            "Epoch 10/100\n",
            "9/9 [==============================] - 12s 1s/step - loss: 0.4224 - accuracy: 0.8127 - val_loss: 0.6448 - val_accuracy: 0.8043\n",
            "Epoch 11/100\n",
            "9/9 [==============================] - 13s 1s/step - loss: 0.3799 - accuracy: 0.8304 - val_loss: 0.6383 - val_accuracy: 0.8913\n",
            "Epoch 12/100\n",
            "9/9 [==============================] - 11s 1s/step - loss: 0.3602 - accuracy: 0.8233 - val_loss: 0.6388 - val_accuracy: 0.8696\n",
            "Epoch 13/100\n",
            "9/9 [==============================] - 12s 1s/step - loss: 0.3298 - accuracy: 0.8481 - val_loss: 0.6269 - val_accuracy: 0.8913\n",
            "Epoch 14/100\n",
            "9/9 [==============================] - 11s 1s/step - loss: 0.3367 - accuracy: 0.8551 - val_loss: 0.6215 - val_accuracy: 0.8696\n",
            "Epoch 15/100\n",
            "9/9 [==============================] - 12s 1s/step - loss: 0.3132 - accuracy: 0.8551 - val_loss: 0.6173 - val_accuracy: 0.8261\n",
            "Epoch 16/100\n",
            "9/9 [==============================] - 10s 1s/step - loss: 0.2932 - accuracy: 0.8657 - val_loss: 0.5927 - val_accuracy: 0.9130\n",
            "Epoch 17/100\n",
            "9/9 [==============================] - 10s 1s/step - loss: 0.3097 - accuracy: 0.8587 - val_loss: 0.5735 - val_accuracy: 0.8696\n",
            "Epoch 18/100\n",
            "9/9 [==============================] - 11s 1s/step - loss: 0.3120 - accuracy: 0.8622 - val_loss: 0.5728 - val_accuracy: 0.8913\n",
            "Epoch 19/100\n",
            "9/9 [==============================] - 11s 1s/step - loss: 0.2653 - accuracy: 0.8728 - val_loss: 0.5674 - val_accuracy: 0.9130\n",
            "Epoch 20/100\n",
            "9/9 [==============================] - 10s 1s/step - loss: 0.2716 - accuracy: 0.8799 - val_loss: 0.5359 - val_accuracy: 0.9130\n",
            "Epoch 21/100\n",
            "9/9 [==============================] - 11s 1s/step - loss: 0.2774 - accuracy: 0.8834 - val_loss: 0.5320 - val_accuracy: 0.9348\n",
            "Epoch 22/100\n",
            "9/9 [==============================] - 11s 1s/step - loss: 0.2740 - accuracy: 0.8763 - val_loss: 0.5327 - val_accuracy: 0.9130\n",
            "Epoch 23/100\n",
            "9/9 [==============================] - 10s 1s/step - loss: 0.2706 - accuracy: 0.8763 - val_loss: 0.5426 - val_accuracy: 0.8913\n",
            "Epoch 24/100\n",
            "9/9 [==============================] - 10s 1s/step - loss: 0.2273 - accuracy: 0.9117 - val_loss: 0.5416 - val_accuracy: 0.9130\n",
            "Epoch 25/100\n",
            "9/9 [==============================] - 10s 1s/step - loss: 0.2087 - accuracy: 0.9117 - val_loss: 0.4998 - val_accuracy: 0.8913\n",
            "Epoch 26/100\n",
            "9/9 [==============================] - 9s 1s/step - loss: 0.2284 - accuracy: 0.9011 - val_loss: 0.4852 - val_accuracy: 0.9130\n",
            "Epoch 27/100\n",
            "9/9 [==============================] - 10s 1s/step - loss: 0.2036 - accuracy: 0.9223 - val_loss: 0.4876 - val_accuracy: 0.9130\n",
            "Epoch 28/100\n",
            "9/9 [==============================] - 10s 1s/step - loss: 0.1908 - accuracy: 0.9329 - val_loss: 0.4961 - val_accuracy: 0.8696\n",
            "Epoch 29/100\n",
            "9/9 [==============================] - 10s 1s/step - loss: 0.1960 - accuracy: 0.9223 - val_loss: 0.4994 - val_accuracy: 0.8696\n",
            "Epoch 30/100\n",
            "9/9 [==============================] - 10s 1s/step - loss: 0.2540 - accuracy: 0.9081 - val_loss: 0.4274 - val_accuracy: 0.9348\n",
            "Epoch 31/100\n",
            "9/9 [==============================] - 9s 1s/step - loss: 0.1934 - accuracy: 0.9258 - val_loss: 0.4349 - val_accuracy: 0.9130\n",
            "Epoch 32/100\n",
            "9/9 [==============================] - 10s 1s/step - loss: 0.1795 - accuracy: 0.9364 - val_loss: 0.4266 - val_accuracy: 0.9130\n",
            "Epoch 33/100\n",
            "9/9 [==============================] - 10s 1s/step - loss: 0.1496 - accuracy: 0.9399 - val_loss: 0.3927 - val_accuracy: 0.9348\n",
            "Epoch 34/100\n",
            "9/9 [==============================] - 10s 1s/step - loss: 0.1482 - accuracy: 0.9399 - val_loss: 0.3881 - val_accuracy: 0.8913\n",
            "Epoch 35/100\n",
            "9/9 [==============================] - 9s 1s/step - loss: 0.1558 - accuracy: 0.9364 - val_loss: 0.3613 - val_accuracy: 0.8913\n",
            "Epoch 36/100\n",
            "9/9 [==============================] - 10s 1s/step - loss: 0.1414 - accuracy: 0.9435 - val_loss: 0.3280 - val_accuracy: 0.8913\n",
            "Epoch 37/100\n",
            "9/9 [==============================] - 9s 1s/step - loss: 0.1434 - accuracy: 0.9541 - val_loss: 0.3247 - val_accuracy: 0.8913\n",
            "Epoch 38/100\n",
            "9/9 [==============================] - 10s 1s/step - loss: 0.1515 - accuracy: 0.9470 - val_loss: 0.3218 - val_accuracy: 0.9130\n",
            "Epoch 39/100\n",
            "9/9 [==============================] - 9s 996ms/step - loss: 0.1096 - accuracy: 0.9541 - val_loss: 0.3040 - val_accuracy: 0.8913\n",
            "Epoch 40/100\n",
            "9/9 [==============================] - 9s 991ms/step - loss: 0.1267 - accuracy: 0.9435 - val_loss: 0.3095 - val_accuracy: 0.8913\n",
            "Epoch 41/100\n",
            "9/9 [==============================] - 9s 981ms/step - loss: 0.1117 - accuracy: 0.9647 - val_loss: 0.2692 - val_accuracy: 0.9130\n",
            "Epoch 42/100\n",
            "9/9 [==============================] - 10s 1s/step - loss: 0.1204 - accuracy: 0.9505 - val_loss: 0.2594 - val_accuracy: 0.9130\n",
            "Epoch 43/100\n",
            "9/9 [==============================] - 9s 1s/step - loss: 0.1224 - accuracy: 0.9505 - val_loss: 0.3033 - val_accuracy: 0.8913\n",
            "Epoch 44/100\n",
            "9/9 [==============================] - 9s 1s/step - loss: 0.1500 - accuracy: 0.9399 - val_loss: 0.2681 - val_accuracy: 0.8913\n",
            "Epoch 45/100\n",
            "9/9 [==============================] - 9s 993ms/step - loss: 0.1318 - accuracy: 0.9293 - val_loss: 0.2496 - val_accuracy: 0.9130\n",
            "Epoch 46/100\n",
            "9/9 [==============================] - 9s 1s/step - loss: 0.1058 - accuracy: 0.9753 - val_loss: 0.2199 - val_accuracy: 0.9130\n",
            "Epoch 47/100\n",
            "9/9 [==============================] - 9s 991ms/step - loss: 0.1522 - accuracy: 0.9258 - val_loss: 0.2214 - val_accuracy: 0.9348\n",
            "Epoch 48/100\n",
            "9/9 [==============================] - 9s 1s/step - loss: 0.1226 - accuracy: 0.9505 - val_loss: 0.2464 - val_accuracy: 0.9130\n",
            "Epoch 49/100\n",
            "9/9 [==============================] - 9s 992ms/step - loss: 0.1267 - accuracy: 0.9399 - val_loss: 0.2108 - val_accuracy: 0.9130\n",
            "Epoch 50/100\n",
            "9/9 [==============================] - 9s 999ms/step - loss: 0.1015 - accuracy: 0.9611 - val_loss: 0.1925 - val_accuracy: 0.9130\n",
            "Epoch 51/100\n",
            "9/9 [==============================] - 9s 995ms/step - loss: 0.0924 - accuracy: 0.9788 - val_loss: 0.2021 - val_accuracy: 0.9348\n",
            "Epoch 52/100\n",
            "9/9 [==============================] - 9s 988ms/step - loss: 0.0968 - accuracy: 0.9682 - val_loss: 0.2016 - val_accuracy: 0.9348\n",
            "Epoch 53/100\n",
            "9/9 [==============================] - 9s 1s/step - loss: 0.0860 - accuracy: 0.9682 - val_loss: 0.1762 - val_accuracy: 0.9348\n",
            "Epoch 54/100\n",
            "9/9 [==============================] - 9s 997ms/step - loss: 0.0959 - accuracy: 0.9647 - val_loss: 0.1760 - val_accuracy: 0.9130\n",
            "Epoch 55/100\n",
            "9/9 [==============================] - 9s 1s/step - loss: 0.0827 - accuracy: 0.9611 - val_loss: 0.1548 - val_accuracy: 0.9348\n",
            "Epoch 56/100\n",
            "9/9 [==============================] - 9s 1s/step - loss: 0.0972 - accuracy: 0.9647 - val_loss: 0.1524 - val_accuracy: 0.9565\n",
            "Epoch 57/100\n",
            "9/9 [==============================] - 10s 1s/step - loss: 0.1148 - accuracy: 0.9435 - val_loss: 0.1341 - val_accuracy: 0.9783\n",
            "Epoch 58/100\n",
            "9/9 [==============================] - 10s 1s/step - loss: 0.0869 - accuracy: 0.9682 - val_loss: 0.1574 - val_accuracy: 0.9130\n",
            "Epoch 59/100\n",
            "9/9 [==============================] - 9s 1s/step - loss: 0.1030 - accuracy: 0.9682 - val_loss: 0.1501 - val_accuracy: 0.9348\n",
            "Epoch 60/100\n",
            "9/9 [==============================] - 10s 1s/step - loss: 0.1124 - accuracy: 0.9541 - val_loss: 0.1623 - val_accuracy: 0.9348\n",
            "Epoch 61/100\n",
            "9/9 [==============================] - 12s 1s/step - loss: 0.0955 - accuracy: 0.9647 - val_loss: 0.1557 - val_accuracy: 0.9348\n",
            "Epoch 62/100\n",
            "9/9 [==============================] - 10s 1s/step - loss: 0.1103 - accuracy: 0.9470 - val_loss: 0.1714 - val_accuracy: 0.8913\n",
            "Epoch 63/100\n",
            "9/9 [==============================] - 9s 1s/step - loss: 0.0960 - accuracy: 0.9541 - val_loss: 0.1596 - val_accuracy: 0.9348\n",
            "Epoch 64/100\n",
            "9/9 [==============================] - 9s 1s/step - loss: 0.0812 - accuracy: 0.9717 - val_loss: 0.1663 - val_accuracy: 0.9348\n",
            "Epoch 65/100\n",
            "9/9 [==============================] - 9s 1s/step - loss: 0.0705 - accuracy: 0.9788 - val_loss: 0.1601 - val_accuracy: 0.9348\n",
            "Epoch 66/100\n",
            "9/9 [==============================] - 9s 1s/step - loss: 0.0828 - accuracy: 0.9682 - val_loss: 0.1516 - val_accuracy: 0.9348\n",
            "Epoch 67/100\n",
            "9/9 [==============================] - 9s 1s/step - loss: 0.0815 - accuracy: 0.9611 - val_loss: 0.1706 - val_accuracy: 0.9130\n",
            "Epoch 68/100\n",
            "9/9 [==============================] - 9s 1s/step - loss: 0.0745 - accuracy: 0.9682 - val_loss: 0.1761 - val_accuracy: 0.9348\n",
            "Epoch 69/100\n",
            "9/9 [==============================] - 9s 1s/step - loss: 0.0786 - accuracy: 0.9753 - val_loss: 0.1559 - val_accuracy: 0.9348\n",
            "Epoch 70/100\n",
            "9/9 [==============================] - 9s 1s/step - loss: 0.0707 - accuracy: 0.9682 - val_loss: 0.2151 - val_accuracy: 0.9130\n",
            "Epoch 71/100\n",
            "9/9 [==============================] - 9s 1s/step - loss: 0.0923 - accuracy: 0.9647 - val_loss: 0.1635 - val_accuracy: 0.9348\n",
            "Epoch 72/100\n",
            "9/9 [==============================] - 9s 1s/step - loss: 0.1152 - accuracy: 0.9470 - val_loss: 0.2466 - val_accuracy: 0.9348\n",
            "Epoch 73/100\n",
            "9/9 [==============================] - 9s 979ms/step - loss: 0.0983 - accuracy: 0.9611 - val_loss: 0.2568 - val_accuracy: 0.9130\n",
            "Epoch 74/100\n",
            "9/9 [==============================] - 9s 985ms/step - loss: 0.1057 - accuracy: 0.9576 - val_loss: 0.2271 - val_accuracy: 0.8913\n",
            "Epoch 75/100\n",
            "9/9 [==============================] - 9s 987ms/step - loss: 0.0759 - accuracy: 0.9753 - val_loss: 0.2566 - val_accuracy: 0.9348\n",
            "Epoch 76/100\n",
            "9/9 [==============================] - 9s 1s/step - loss: 0.0905 - accuracy: 0.9647 - val_loss: 0.2123 - val_accuracy: 0.9130\n",
            "Epoch 77/100\n",
            "9/9 [==============================] - 9s 1s/step - loss: 0.0772 - accuracy: 0.9682 - val_loss: 0.2662 - val_accuracy: 0.9130\n",
            "Epoch 78/100\n",
            "9/9 [==============================] - 9s 1s/step - loss: 0.0584 - accuracy: 0.9823 - val_loss: 0.2318 - val_accuracy: 0.9130\n",
            "Epoch 79/100\n",
            "9/9 [==============================] - 9s 1000ms/step - loss: 0.0744 - accuracy: 0.9647 - val_loss: 0.3314 - val_accuracy: 0.9130\n",
            "Epoch 80/100\n",
            "9/9 [==============================] - 9s 999ms/step - loss: 0.0637 - accuracy: 0.9859 - val_loss: 0.2872 - val_accuracy: 0.8913\n",
            "Epoch 81/100\n",
            "9/9 [==============================] - 9s 998ms/step - loss: 0.0676 - accuracy: 0.9823 - val_loss: 0.1668 - val_accuracy: 0.9130\n",
            "Epoch 82/100\n",
            "9/9 [==============================] - 9s 1s/step - loss: 0.0716 - accuracy: 0.9647 - val_loss: 0.1407 - val_accuracy: 0.9348\n",
            "Epoch 83/100\n",
            "9/9 [==============================] - 9s 1s/step - loss: 0.0733 - accuracy: 0.9682 - val_loss: 0.2528 - val_accuracy: 0.8913\n",
            "Epoch 84/100\n",
            "9/9 [==============================] - 9s 992ms/step - loss: 0.0501 - accuracy: 0.9788 - val_loss: 0.2536 - val_accuracy: 0.9348\n",
            "Epoch 85/100\n",
            "9/9 [==============================] - 9s 1s/step - loss: 0.0490 - accuracy: 0.9894 - val_loss: 0.2537 - val_accuracy: 0.9348\n",
            "Epoch 86/100\n",
            "9/9 [==============================] - 9s 1s/step - loss: 0.0581 - accuracy: 0.9859 - val_loss: 0.3183 - val_accuracy: 0.9348\n",
            "Epoch 87/100\n",
            "9/9 [==============================] - 9s 994ms/step - loss: 0.0742 - accuracy: 0.9682 - val_loss: 0.2172 - val_accuracy: 0.9130\n",
            "Epoch 88/100\n",
            "9/9 [==============================] - 9s 997ms/step - loss: 0.0439 - accuracy: 0.9859 - val_loss: 0.2201 - val_accuracy: 0.9130\n",
            "Epoch 89/100\n",
            "9/9 [==============================] - 9s 1s/step - loss: 0.0547 - accuracy: 0.9823 - val_loss: 0.2354 - val_accuracy: 0.9348\n",
            "Epoch 90/100\n",
            "9/9 [==============================] - 9s 995ms/step - loss: 0.0909 - accuracy: 0.9611 - val_loss: 0.2677 - val_accuracy: 0.9130\n",
            "Epoch 91/100\n",
            "9/9 [==============================] - 9s 1s/step - loss: 0.0523 - accuracy: 0.9753 - val_loss: 0.3146 - val_accuracy: 0.9348\n",
            "Epoch 92/100\n",
            "9/9 [==============================] - 9s 1s/step - loss: 0.0507 - accuracy: 0.9788 - val_loss: 0.3662 - val_accuracy: 0.9130\n",
            "Epoch 93/100\n",
            "9/9 [==============================] - 9s 1s/step - loss: 0.0457 - accuracy: 0.9859 - val_loss: 0.2470 - val_accuracy: 0.9348\n",
            "Epoch 94/100\n",
            "9/9 [==============================] - 9s 1s/step - loss: 0.0413 - accuracy: 0.9929 - val_loss: 0.2608 - val_accuracy: 0.9348\n",
            "Epoch 95/100\n",
            "9/9 [==============================] - 9s 1s/step - loss: 0.0568 - accuracy: 0.9753 - val_loss: 0.2466 - val_accuracy: 0.9348\n",
            "Epoch 96/100\n",
            "9/9 [==============================] - 9s 1s/step - loss: 0.0529 - accuracy: 0.9823 - val_loss: 0.2584 - val_accuracy: 0.9348\n",
            "Epoch 97/100\n",
            "9/9 [==============================] - 9s 1s/step - loss: 0.0776 - accuracy: 0.9788 - val_loss: 0.2785 - val_accuracy: 0.9348\n",
            "Epoch 98/100\n",
            "9/9 [==============================] - 9s 999ms/step - loss: 0.0350 - accuracy: 0.9894 - val_loss: 0.2702 - val_accuracy: 0.9130\n",
            "Epoch 99/100\n",
            "9/9 [==============================] - 9s 1000ms/step - loss: 0.0767 - accuracy: 0.9682 - val_loss: 0.4185 - val_accuracy: 0.9348\n",
            "Epoch 100/100\n",
            "9/9 [==============================] - 9s 1s/step - loss: 0.1011 - accuracy: 0.9611 - val_loss: 0.1859 - val_accuracy: 0.9348\n"
          ]
        }
      ]
    },
    {
      "cell_type": "code",
      "metadata": {
        "id": "ZVn2VC1Oa8LN",
        "colab": {
          "base_uri": "https://localhost:8080/"
        },
        "outputId": "3ac1fc9e-1dc6-4aff-905b-acd63bcc944f"
      },
      "source": [
        "print(\"waktu = \", time.time() - start, \"detik\")"
      ],
      "execution_count": null,
      "outputs": [
        {
          "output_type": "stream",
          "name": "stdout",
          "text": [
            "waktu =  973.0042953491211 detik\n"
          ]
        }
      ]
    },
    {
      "cell_type": "code",
      "metadata": {
        "id": "8boFaekxbIjI",
        "colab": {
          "base_uri": "https://localhost:8080/"
        },
        "outputId": "8deab66b-f11c-4c2f-f2f6-5ad4bd0443c4"
      },
      "source": [
        "score = model1.evaluate(train_generator)\n",
        "\n",
        "print('Loss: {:.2f}'.format(score[0]))\n",
        "print('Accuracy: {:.2f}'.format(score[1]))"
      ],
      "execution_count": null,
      "outputs": [
        {
          "output_type": "stream",
          "name": "stdout",
          "text": [
            "9/9 [==============================] - 3s 270ms/step - loss: 0.1149 - accuracy: 0.9470\n",
            "Loss: 0.11\n",
            "Accuracy: 0.95\n"
          ]
        }
      ]
    },
    {
      "cell_type": "code",
      "metadata": {
        "id": "Vr1FxmqDbMva",
        "colab": {
          "base_uri": "https://localhost:8080/"
        },
        "outputId": "7941052c-12f3-4f4b-8cc3-58ce0c6fb0a9"
      },
      "source": [
        "score = model1.evaluate(val_generator)\n",
        "\n",
        "print('Loss: {:.2f}'.format(score[0]))\n",
        "print('Accuracy: {:.2f}'.format(score[1]))"
      ],
      "execution_count": null,
      "outputs": [
        {
          "output_type": "stream",
          "name": "stdout",
          "text": [
            "2/2 [==============================] - 0s 109ms/step - loss: 0.1859 - accuracy: 0.9348\n",
            "Loss: 0.19\n",
            "Accuracy: 0.93\n"
          ]
        }
      ]
    },
    {
      "cell_type": "code",
      "metadata": {
        "id": "9EsTAdV1bW4H",
        "colab": {
          "base_uri": "https://localhost:8080/",
          "height": 462
        },
        "outputId": "59a80608-0115-40f1-82cb-71429970359f"
      },
      "source": [
        "import matplotlib.pyplot as plt\n",
        "%matplotlib inline\n",
        "\n",
        "plt.style.use(\"ggplot\")\n",
        "plt.figure(figsize=(12,7))\n",
        "plt.plot(history.history[\"loss\"], label=\"train_loss\")\n",
        "plt.plot(history.history[\"val_loss\"], label=\"val_loss\")\n",
        "plt.title(\"Loss Plot\")\n",
        "plt.xlabel(\"Epoch #\")\n",
        "plt.ylabel(\"Loss\")\n",
        "plt.legend()\n",
        "plt.show()"
      ],
      "execution_count": null,
      "outputs": [
        {
          "output_type": "display_data",
          "data": {
            "text/plain": [
              "<Figure size 864x504 with 1 Axes>"
            ],
            "image/png": "[encoded data removed]"
          },
          "metadata": {}
        }
      ]
    },
    {
      "cell_type": "code",
      "metadata": {
        "id": "2Sbmi5bvbav5",
        "colab": {
          "base_uri": "https://localhost:8080/",
          "height": 462
        },
        "outputId": "b6cec8b7-3871-486f-88cd-f873559ae58b"
      },
      "source": [
        "plt.style.use(\"ggplot\")\n",
        "plt.figure(figsize=(12,7))\n",
        "plt.plot(history.history[\"accuracy\"], label=\"train_acc\")\n",
        "plt.plot(history.history[\"val_accuracy\"], label=\"val_acc\")\n",
        "plt.title(\"Accuracy Plot\")\n",
        "plt.xlabel(\"Epoch #\")\n",
        "plt.ylabel(\"Acc\")\n",
        "plt.legend()\n",
        "plt.show()"
      ],
      "execution_count": null,
      "outputs": [
        {
          "output_type": "display_data",
          "data": {
            "text/plain": [
              "<Figure size 864x504 with 1 Axes>"
            ],
            "image/png": "[encoded data removed]"
          },
          "metadata": {}
        }
      ]
    },
    {
      "cell_type": "code",
      "metadata": {
        "id": "dE1GsycEbdYT",
        "colab": {
          "base_uri": "https://localhost:8080/"
        },
        "outputId": "e2e7a624-1da4-49c7-8a56-c5bf8462f0b2"
      },
      "source": [
        "score = model1.evaluate(test_generator)\n",
        "\n",
        "print('Loss: {:.2f}'.format(score[0]))\n",
        "print('Accuracy: {:.2f}'.format(score[1]))"
      ],
      "execution_count": null,
      "outputs": [
        {
          "output_type": "stream",
          "name": "stdout",
          "text": [
            "1/1 [==============================] - 0s 80ms/step - loss: 0.0209 - accuracy: 1.0000\n",
            "Loss: 0.02\n",
            "Accuracy: 1.00\n"
          ]
        }
      ]
    },
    {
      "cell_type": "code",
      "metadata": {
        "id": "vfEUV8QhN935",
        "colab": {
          "base_uri": "https://localhost:8080/"
        },
        "outputId": "b0dde19b-8197-48a4-ecea-709823cba130"
      },
      "source": [
        "from sklearn.metrics import classification_report, confusion_matrix, roc_curve, auc\n",
        "import numpy as np\n",
        "\n",
        "pred = model1.predict(test_generator)\n",
        "labels = (pred > 0.5).astype(np.int)"
      ],
      "execution_count": null,
      "outputs": [
        {
          "output_type": "stream",
          "name": "stderr",
          "text": [
            "C:\\Users\\Nuril\\AppData\\Local\\Temp/ipykernel_6320/180543812.py:5: DeprecationWarning: `np.int` is a deprecated alias for the builtin `int`. To silence this warning, use `int` by itself. Doing this will not modify any behavior and is safe. When replacing `np.int`, you may wish to use e.g. `np.int64` or `np.int32` to specify the precision. If you wish to review your current use, check the release note link for additional information.\n",
            "Deprecated in NumPy 1.20; for more details and guidance: https://numpy.org/devdocs/release/1.20.0-notes.html#deprecations\n",
            "  labels = (pred > 0.5).astype(np.int)\n"
          ]
        }
      ]
    },
    {
      "cell_type": "code",
      "metadata": {
        "colab": {
          "base_uri": "https://localhost:8080/"
        },
        "id": "HU8_MssbjMRk",
        "outputId": "a7b50be0-d878-4960-f2d6-ac9b6225fea1"
      },
      "source": [
        "print(classification_report(test_generator.classes, labels))"
      ],
      "execution_count": null,
      "outputs": [
        {
          "output_type": "stream",
          "name": "stdout",
          "text": [
            "              precision    recall  f1-score   support\n",
            "\n",
            "           0       0.50      0.50      0.50         2\n",
            "           1       0.67      0.67      0.67         3\n",
            "\n",
            "    accuracy                           0.60         5\n",
            "   macro avg       0.58      0.58      0.58         5\n",
            "weighted avg       0.60      0.60      0.60         5\n",
            "\n"
          ]
        }
      ]
    },
    {
      "cell_type": "code",
      "metadata": {
        "colab": {
          "base_uri": "https://localhost:8080/"
        },
        "id": "tQl7XI1BjRuD",
        "outputId": "eb5546b4-10a4-423e-d87d-b89619bea531"
      },
      "source": [
        "model2 = Sequential([\n",
        "                     Conv2D(32, kernel_size=3, activation='relu', input_shape=(250, 250, 1)),\n",
        "                     MaxPool2D(2,2),\n",
        "\n",
        "                     Conv2D(64, kernel_size=3, activation='relu'),\n",
        "                     MaxPool2D(2,2),\n",
        "                     BatchNormalization(),\n",
        "\n",
        "                     Conv2D(128, kernel_size=3, activation='relu'),\n",
        "                     MaxPool2D(2,2),\n",
        "\n",
        "                     Dropout(0.5),\n",
        "\n",
        "                     Flatten(),\n",
        "\n",
        "                     Dense(64, activation='relu'),\n",
        "                     Dense(1, activation='sigmoid')\n",
        "])\n",
        "\n",
        "model2.summary()"
      ],
      "execution_count": null,
      "outputs": [
        {
          "output_type": "stream",
          "name": "stdout",
          "text": [
            "Model: \"sequential_1\"\n",
            "_________________________________________________________________\n",
            " Layer (type)                Output Shape              Param #   \n",
            "=================================================================\n",
            " conv2d_4 (Conv2D)           (None, 248, 248, 32)      320       \n",
            "                                                                 \n",
            " max_pooling2d_4 (MaxPooling  (None, 124, 124, 32)     0         \n",
            " 2D)                                                             \n",
            "                                                                 \n",
            " conv2d_5 (Conv2D)           (None, 122, 122, 64)      18496     \n",
            "                                                                 \n",
            " max_pooling2d_5 (MaxPooling  (None, 61, 61, 64)       0         \n",
            " 2D)                                                             \n",
            "                                                                 \n",
            " batch_normalization_1 (Batc  (None, 61, 61, 64)       256       \n",
            " hNormalization)                                                 \n",
            "                                                                 \n",
            " conv2d_6 (Conv2D)           (None, 59, 59, 128)       73856     \n",
            "                                                                 \n",
            " max_pooling2d_6 (MaxPooling  (None, 29, 29, 128)      0         \n",
            " 2D)                                                             \n",
            "                                                                 \n",
            " dropout_1 (Dropout)         (None, 29, 29, 128)       0         \n",
            "                                                                 \n",
            " flatten_1 (Flatten)         (None, 107648)            0         \n",
            "                                                                 \n",
            " dense_2 (Dense)             (None, 64)                6889536   \n",
            "                                                                 \n",
            " dense_3 (Dense)             (None, 1)                 65        \n",
            "                                                                 \n",
            "=================================================================\n",
            "Total params: 6,982,529\n",
            "Trainable params: 6,982,401\n",
            "Non-trainable params: 128\n",
            "_________________________________________________________________\n"
          ]
        }
      ]
    },
    {
      "cell_type": "code",
      "metadata": {
        "id": "4sCP3NR2j196"
      },
      "source": [
        "model2.compile(loss='binary_crossentropy',\n",
        "              optimizer=Adam(learning_rate=0.0001),\n",
        "              metrics=['accuracy'])"
      ],
      "execution_count": null,
      "outputs": []
    },
    {
      "cell_type": "code",
      "metadata": {
        "colab": {
          "base_uri": "https://localhost:8080/"
        },
        "id": "WbXfupB3j7kb",
        "outputId": "6293b128-95d4-4ee3-dfed-3e18767fff6a"
      },
      "source": [
        "start=time.time()\n",
        "history2 = model2.fit(train_generator,\n",
        "          epochs=100,\n",
        "          validation_data=val_generator,\n",
        "          verbose=1)"
      ],
      "execution_count": null,
      "outputs": [
        {
          "output_type": "stream",
          "name": "stdout",
          "text": [
            "Epoch 1/100\n",
            "9/9 [==============================] - 8s 865ms/step - loss: 0.8446 - accuracy: 0.6714 - val_loss: 0.6905 - val_accuracy: 0.7391\n",
            "Epoch 2/100\n",
            "9/9 [==============================] - 8s 863ms/step - loss: 0.5855 - accuracy: 0.7314 - val_loss: 0.6591 - val_accuracy: 0.7391\n",
            "Epoch 3/100\n",
            "9/9 [==============================] - 8s 863ms/step - loss: 0.5480 - accuracy: 0.7314 - val_loss: 0.6709 - val_accuracy: 0.7391\n",
            "Epoch 4/100\n",
            "9/9 [==============================] - 8s 881ms/step - loss: 0.5227 - accuracy: 0.7314 - val_loss: 0.6695 - val_accuracy: 0.7391\n",
            "Epoch 5/100\n",
            "9/9 [==============================] - 8s 865ms/step - loss: 0.4942 - accuracy: 0.7314 - val_loss: 0.6620 - val_accuracy: 0.7391\n",
            "Epoch 6/100\n",
            "9/9 [==============================] - 8s 901ms/step - loss: 0.4744 - accuracy: 0.7314 - val_loss: 0.6579 - val_accuracy: 0.7391\n",
            "Epoch 7/100\n",
            "9/9 [==============================] - 8s 895ms/step - loss: 0.4649 - accuracy: 0.7279 - val_loss: 0.6557 - val_accuracy: 0.7391\n",
            "Epoch 8/100\n",
            "9/9 [==============================] - 8s 926ms/step - loss: 0.4474 - accuracy: 0.7456 - val_loss: 0.6506 - val_accuracy: 0.7391\n",
            "Epoch 9/100\n",
            "9/9 [==============================] - 9s 954ms/step - loss: 0.4416 - accuracy: 0.7527 - val_loss: 0.6509 - val_accuracy: 0.7609\n",
            "Epoch 10/100\n",
            "9/9 [==============================] - 9s 972ms/step - loss: 0.4285 - accuracy: 0.7668 - val_loss: 0.6450 - val_accuracy: 0.8043\n",
            "Epoch 11/100\n",
            "9/9 [==============================] - 9s 992ms/step - loss: 0.4198 - accuracy: 0.7915 - val_loss: 0.6459 - val_accuracy: 0.8261\n",
            "Epoch 12/100\n",
            "9/9 [==============================] - 8s 872ms/step - loss: 0.4102 - accuracy: 0.7774 - val_loss: 0.6397 - val_accuracy: 0.8696\n",
            "Epoch 13/100\n",
            "9/9 [==============================] - 8s 866ms/step - loss: 0.4149 - accuracy: 0.7774 - val_loss: 0.6402 - val_accuracy: 0.8913\n",
            "Epoch 14/100\n",
            "9/9 [==============================] - 8s 873ms/step - loss: 0.4035 - accuracy: 0.8057 - val_loss: 0.6362 - val_accuracy: 0.8696\n",
            "Epoch 15/100\n",
            "9/9 [==============================] - 8s 863ms/step - loss: 0.3839 - accuracy: 0.8127 - val_loss: 0.6403 - val_accuracy: 0.8043\n",
            "Epoch 16/100\n",
            "9/9 [==============================] - 8s 892ms/step - loss: 0.3695 - accuracy: 0.8057 - val_loss: 0.6275 - val_accuracy: 0.8696\n",
            "Epoch 17/100\n",
            "9/9 [==============================] - 8s 896ms/step - loss: 0.3600 - accuracy: 0.8304 - val_loss: 0.6211 - val_accuracy: 0.8478\n",
            "Epoch 18/100\n",
            "9/9 [==============================] - 9s 961ms/step - loss: 0.3545 - accuracy: 0.8410 - val_loss: 0.6130 - val_accuracy: 0.8696\n",
            "Epoch 19/100\n",
            "9/9 [==============================] - 9s 960ms/step - loss: 0.3364 - accuracy: 0.8516 - val_loss: 0.6081 - val_accuracy: 0.8478\n",
            "Epoch 20/100\n",
            "9/9 [==============================] - 9s 1s/step - loss: 0.3258 - accuracy: 0.8622 - val_loss: 0.5936 - val_accuracy: 0.8696\n",
            "Epoch 21/100\n",
            "9/9 [==============================] - 9s 933ms/step - loss: 0.3210 - accuracy: 0.8551 - val_loss: 0.5902 - val_accuracy: 0.8261\n",
            "Epoch 22/100\n",
            "9/9 [==============================] - 8s 930ms/step - loss: 0.3210 - accuracy: 0.8339 - val_loss: 0.5787 - val_accuracy: 0.8696\n",
            "Epoch 23/100\n",
            "9/9 [==============================] - 8s 914ms/step - loss: 0.2981 - accuracy: 0.8834 - val_loss: 0.5910 - val_accuracy: 0.8261\n",
            "Epoch 24/100\n",
            "9/9 [==============================] - 8s 901ms/step - loss: 0.2887 - accuracy: 0.8799 - val_loss: 0.5499 - val_accuracy: 0.8696\n",
            "Epoch 25/100\n",
            "9/9 [==============================] - 8s 925ms/step - loss: 0.2882 - accuracy: 0.8657 - val_loss: 0.5832 - val_accuracy: 0.7609\n",
            "Epoch 26/100\n",
            "9/9 [==============================] - 8s 911ms/step - loss: 0.3152 - accuracy: 0.8587 - val_loss: 0.5776 - val_accuracy: 0.7609\n",
            "Epoch 27/100\n",
            "9/9 [==============================] - 8s 905ms/step - loss: 0.2907 - accuracy: 0.8728 - val_loss: 0.5327 - val_accuracy: 0.8913\n",
            "Epoch 28/100\n",
            "9/9 [==============================] - 9s 1s/step - loss: 0.2581 - accuracy: 0.8975 - val_loss: 0.5508 - val_accuracy: 0.8043\n",
            "Epoch 29/100\n",
            "9/9 [==============================] - 9s 1s/step - loss: 0.2896 - accuracy: 0.8763 - val_loss: 0.5116 - val_accuracy: 0.8696\n",
            "Epoch 30/100\n",
            "9/9 [==============================] - 9s 962ms/step - loss: 0.2700 - accuracy: 0.8728 - val_loss: 0.5265 - val_accuracy: 0.7826\n",
            "Epoch 31/100\n",
            "9/9 [==============================] - 8s 908ms/step - loss: 0.2548 - accuracy: 0.8975 - val_loss: 0.4844 - val_accuracy: 0.9130\n",
            "Epoch 32/100\n",
            "9/9 [==============================] - 8s 905ms/step - loss: 0.2555 - accuracy: 0.9081 - val_loss: 0.5058 - val_accuracy: 0.8913\n",
            "Epoch 33/100\n",
            "9/9 [==============================] - 8s 910ms/step - loss: 0.2286 - accuracy: 0.9187 - val_loss: 0.4723 - val_accuracy: 0.8913\n",
            "Epoch 34/100\n",
            "9/9 [==============================] - 8s 926ms/step - loss: 0.2578 - accuracy: 0.8975 - val_loss: 0.4588 - val_accuracy: 0.8913\n",
            "Epoch 35/100\n",
            "9/9 [==============================] - 8s 913ms/step - loss: 0.2505 - accuracy: 0.9046 - val_loss: 0.4742 - val_accuracy: 0.8696\n",
            "Epoch 36/100\n",
            "9/9 [==============================] - 9s 937ms/step - loss: 0.2568 - accuracy: 0.8940 - val_loss: 0.4822 - val_accuracy: 0.8043\n",
            "Epoch 37/100\n",
            "9/9 [==============================] - 8s 902ms/step - loss: 0.2397 - accuracy: 0.9117 - val_loss: 0.4493 - val_accuracy: 0.8478\n",
            "Epoch 38/100\n",
            "9/9 [==============================] - 8s 902ms/step - loss: 0.2036 - accuracy: 0.9223 - val_loss: 0.4319 - val_accuracy: 0.8478\n",
            "Epoch 39/100\n",
            "9/9 [==============================] - 8s 907ms/step - loss: 0.2153 - accuracy: 0.9117 - val_loss: 0.3961 - val_accuracy: 0.8696\n",
            "Epoch 40/100\n",
            "9/9 [==============================] - 8s 924ms/step - loss: 0.1992 - accuracy: 0.9399 - val_loss: 0.3807 - val_accuracy: 0.9348\n",
            "Epoch 41/100\n",
            "9/9 [==============================] - 9s 932ms/step - loss: 0.2192 - accuracy: 0.9187 - val_loss: 0.3569 - val_accuracy: 0.9130\n",
            "Epoch 42/100\n",
            "9/9 [==============================] - 9s 935ms/step - loss: 0.2007 - accuracy: 0.9152 - val_loss: 0.3856 - val_accuracy: 0.9130\n",
            "Epoch 43/100\n",
            "9/9 [==============================] - 8s 892ms/step - loss: 0.2016 - accuracy: 0.9258 - val_loss: 0.3220 - val_accuracy: 0.9130\n",
            "Epoch 44/100\n",
            "9/9 [==============================] - 8s 883ms/step - loss: 0.1916 - accuracy: 0.9152 - val_loss: 0.3527 - val_accuracy: 0.9130\n",
            "Epoch 45/100\n",
            "9/9 [==============================] - 8s 874ms/step - loss: 0.2602 - accuracy: 0.8940 - val_loss: 0.4349 - val_accuracy: 0.8261\n",
            "Epoch 46/100\n",
            "9/9 [==============================] - 8s 880ms/step - loss: 0.2075 - accuracy: 0.9187 - val_loss: 0.2811 - val_accuracy: 0.9348\n",
            "Epoch 47/100\n",
            "9/9 [==============================] - 8s 883ms/step - loss: 0.1981 - accuracy: 0.9293 - val_loss: 0.3273 - val_accuracy: 0.9348\n",
            "Epoch 48/100\n",
            "9/9 [==============================] - 8s 878ms/step - loss: 0.1870 - accuracy: 0.9223 - val_loss: 0.3344 - val_accuracy: 0.9130\n",
            "Epoch 49/100\n",
            "9/9 [==============================] - 8s 881ms/step - loss: 0.1734 - accuracy: 0.9329 - val_loss: 0.3697 - val_accuracy: 0.8043\n",
            "Epoch 50/100\n",
            "9/9 [==============================] - 8s 882ms/step - loss: 0.1484 - accuracy: 0.9470 - val_loss: 0.2589 - val_accuracy: 0.9130\n",
            "Epoch 51/100\n",
            "9/9 [==============================] - 8s 876ms/step - loss: 0.1500 - accuracy: 0.9399 - val_loss: 0.2691 - val_accuracy: 0.8913\n",
            "Epoch 52/100\n",
            "9/9 [==============================] - 8s 874ms/step - loss: 0.1668 - accuracy: 0.9435 - val_loss: 0.2293 - val_accuracy: 0.9130\n",
            "Epoch 53/100\n",
            "9/9 [==============================] - 8s 878ms/step - loss: 0.1483 - accuracy: 0.9435 - val_loss: 0.2962 - val_accuracy: 0.9348\n",
            "Epoch 54/100\n",
            "9/9 [==============================] - 8s 878ms/step - loss: 0.1998 - accuracy: 0.9293 - val_loss: 0.2605 - val_accuracy: 0.8696\n",
            "Epoch 55/100\n",
            "9/9 [==============================] - 8s 886ms/step - loss: 0.1740 - accuracy: 0.9152 - val_loss: 0.2331 - val_accuracy: 0.9130\n",
            "Epoch 56/100\n",
            "9/9 [==============================] - 8s 898ms/step - loss: 0.1553 - accuracy: 0.9293 - val_loss: 0.2301 - val_accuracy: 0.9130\n",
            "Epoch 57/100\n",
            "9/9 [==============================] - 8s 875ms/step - loss: 0.1241 - accuracy: 0.9541 - val_loss: 0.2187 - val_accuracy: 0.9348\n",
            "Epoch 58/100\n",
            "9/9 [==============================] - 8s 876ms/step - loss: 0.1559 - accuracy: 0.9435 - val_loss: 0.2214 - val_accuracy: 0.9130\n",
            "Epoch 59/100\n",
            "9/9 [==============================] - 8s 874ms/step - loss: 0.1965 - accuracy: 0.9152 - val_loss: 0.3152 - val_accuracy: 0.8261\n",
            "Epoch 60/100\n",
            "9/9 [==============================] - 8s 873ms/step - loss: 0.1713 - accuracy: 0.9152 - val_loss: 0.1942 - val_accuracy: 0.9130\n",
            "Epoch 61/100\n",
            "9/9 [==============================] - 8s 875ms/step - loss: 0.1498 - accuracy: 0.9364 - val_loss: 0.2384 - val_accuracy: 0.8913\n",
            "Epoch 62/100\n",
            "9/9 [==============================] - 8s 881ms/step - loss: 0.1525 - accuracy: 0.9399 - val_loss: 0.2039 - val_accuracy: 0.9348\n",
            "Epoch 63/100\n",
            "9/9 [==============================] - 8s 873ms/step - loss: 0.1486 - accuracy: 0.9470 - val_loss: 0.2123 - val_accuracy: 0.9130\n",
            "Epoch 64/100\n",
            "9/9 [==============================] - 8s 873ms/step - loss: 0.1591 - accuracy: 0.9329 - val_loss: 0.1698 - val_accuracy: 0.9130\n",
            "Epoch 65/100\n",
            "9/9 [==============================] - 9s 938ms/step - loss: 0.1434 - accuracy: 0.9364 - val_loss: 0.1898 - val_accuracy: 0.9130\n",
            "Epoch 66/100\n",
            "9/9 [==============================] - 8s 878ms/step - loss: 0.1325 - accuracy: 0.9541 - val_loss: 0.2063 - val_accuracy: 0.8696\n",
            "Epoch 67/100\n",
            "9/9 [==============================] - 8s 871ms/step - loss: 0.1518 - accuracy: 0.9329 - val_loss: 0.2253 - val_accuracy: 0.9130\n",
            "Epoch 68/100\n",
            "9/9 [==============================] - 8s 888ms/step - loss: 0.1623 - accuracy: 0.9258 - val_loss: 0.1897 - val_accuracy: 0.9348\n",
            "Epoch 69/100\n",
            "9/9 [==============================] - 8s 878ms/step - loss: 0.1209 - accuracy: 0.9576 - val_loss: 0.2074 - val_accuracy: 0.8913\n",
            "Epoch 70/100\n",
            "9/9 [==============================] - 8s 881ms/step - loss: 0.1318 - accuracy: 0.9470 - val_loss: 0.1834 - val_accuracy: 0.9130\n",
            "Epoch 71/100\n",
            "9/9 [==============================] - 8s 878ms/step - loss: 0.1308 - accuracy: 0.9505 - val_loss: 0.1684 - val_accuracy: 0.8913\n",
            "Epoch 72/100\n",
            "9/9 [==============================] - 8s 876ms/step - loss: 0.1442 - accuracy: 0.9541 - val_loss: 0.1645 - val_accuracy: 0.9565\n",
            "Epoch 73/100\n",
            "9/9 [==============================] - 8s 878ms/step - loss: 0.1238 - accuracy: 0.9505 - val_loss: 0.1811 - val_accuracy: 0.8913\n",
            "Epoch 74/100\n",
            "9/9 [==============================] - 8s 892ms/step - loss: 0.1136 - accuracy: 0.9611 - val_loss: 0.1966 - val_accuracy: 0.9130\n",
            "Epoch 75/100\n",
            "9/9 [==============================] - 8s 897ms/step - loss: 0.1266 - accuracy: 0.9611 - val_loss: 0.1673 - val_accuracy: 0.9130\n",
            "Epoch 76/100\n",
            "9/9 [==============================] - 8s 888ms/step - loss: 0.1140 - accuracy: 0.9505 - val_loss: 0.1519 - val_accuracy: 0.8913\n",
            "Epoch 77/100\n",
            "9/9 [==============================] - 8s 881ms/step - loss: 0.1153 - accuracy: 0.9611 - val_loss: 0.1758 - val_accuracy: 0.8913\n",
            "Epoch 78/100\n",
            "9/9 [==============================] - 8s 884ms/step - loss: 0.0940 - accuracy: 0.9717 - val_loss: 0.1298 - val_accuracy: 0.9565\n",
            "Epoch 79/100\n",
            "9/9 [==============================] - 8s 878ms/step - loss: 0.1300 - accuracy: 0.9576 - val_loss: 0.1531 - val_accuracy: 0.9130\n",
            "Epoch 80/100\n",
            "9/9 [==============================] - 8s 884ms/step - loss: 0.1471 - accuracy: 0.9364 - val_loss: 0.1651 - val_accuracy: 0.8913\n",
            "Epoch 81/100\n",
            "9/9 [==============================] - 8s 885ms/step - loss: 0.1626 - accuracy: 0.9364 - val_loss: 0.1800 - val_accuracy: 0.9130\n",
            "Epoch 82/100\n",
            "9/9 [==============================] - 8s 880ms/step - loss: 0.1617 - accuracy: 0.9364 - val_loss: 0.1754 - val_accuracy: 0.9130\n",
            "Epoch 83/100\n",
            "9/9 [==============================] - 8s 878ms/step - loss: 0.1341 - accuracy: 0.9364 - val_loss: 0.1807 - val_accuracy: 0.9130\n",
            "Epoch 84/100\n",
            "9/9 [==============================] - 8s 890ms/step - loss: 0.1161 - accuracy: 0.9505 - val_loss: 0.1506 - val_accuracy: 0.9130\n",
            "Epoch 85/100\n",
            "9/9 [==============================] - 8s 886ms/step - loss: 0.1126 - accuracy: 0.9647 - val_loss: 0.1636 - val_accuracy: 0.9130\n",
            "Epoch 86/100\n",
            "9/9 [==============================] - 8s 881ms/step - loss: 0.1311 - accuracy: 0.9505 - val_loss: 0.1685 - val_accuracy: 0.8913\n",
            "Epoch 87/100\n",
            "9/9 [==============================] - 8s 881ms/step - loss: 0.1195 - accuracy: 0.9505 - val_loss: 0.1769 - val_accuracy: 0.9130\n",
            "Epoch 88/100\n",
            "9/9 [==============================] - 8s 897ms/step - loss: 0.0950 - accuracy: 0.9717 - val_loss: 0.2836 - val_accuracy: 0.9130\n",
            "Epoch 89/100\n",
            "9/9 [==============================] - 8s 871ms/step - loss: 0.1261 - accuracy: 0.9505 - val_loss: 0.1703 - val_accuracy: 0.9130\n",
            "Epoch 90/100\n",
            "9/9 [==============================] - 8s 884ms/step - loss: 0.1251 - accuracy: 0.9576 - val_loss: 0.1811 - val_accuracy: 0.9348\n",
            "Epoch 91/100\n",
            "9/9 [==============================] - 8s 876ms/step - loss: 0.1095 - accuracy: 0.9611 - val_loss: 0.1844 - val_accuracy: 0.8913\n",
            "Epoch 92/100\n",
            "9/9 [==============================] - 8s 884ms/step - loss: 0.1219 - accuracy: 0.9505 - val_loss: 0.1786 - val_accuracy: 0.8913\n",
            "Epoch 93/100\n",
            "9/9 [==============================] - 8s 895ms/step - loss: 0.0954 - accuracy: 0.9682 - val_loss: 0.1847 - val_accuracy: 0.8913\n",
            "Epoch 94/100\n",
            "9/9 [==============================] - 8s 877ms/step - loss: 0.1183 - accuracy: 0.9576 - val_loss: 0.1989 - val_accuracy: 0.9130\n",
            "Epoch 95/100\n",
            "9/9 [==============================] - 8s 874ms/step - loss: 0.0890 - accuracy: 0.9576 - val_loss: 0.2099 - val_accuracy: 0.9130\n",
            "Epoch 96/100\n",
            "9/9 [==============================] - 8s 872ms/step - loss: 0.1113 - accuracy: 0.9576 - val_loss: 0.1542 - val_accuracy: 0.8913\n",
            "Epoch 97/100\n",
            "9/9 [==============================] - 8s 872ms/step - loss: 0.1018 - accuracy: 0.9576 - val_loss: 0.1430 - val_accuracy: 0.9348\n",
            "Epoch 98/100\n",
            "9/9 [==============================] - 8s 909ms/step - loss: 0.0989 - accuracy: 0.9682 - val_loss: 0.1932 - val_accuracy: 0.9348\n",
            "Epoch 99/100\n",
            "9/9 [==============================] - 8s 899ms/step - loss: 0.0904 - accuracy: 0.9717 - val_loss: 0.1689 - val_accuracy: 0.9130\n",
            "Epoch 100/100\n",
            "9/9 [==============================] - 8s 890ms/step - loss: 0.0931 - accuracy: 0.9682 - val_loss: 0.1547 - val_accuracy: 0.9348\n"
          ]
        }
      ]
    },
    {
      "cell_type": "code",
      "metadata": {
        "colab": {
          "base_uri": "https://localhost:8080/"
        },
        "id": "HVxwn5qKkFuG",
        "outputId": "9a5c2461-29c9-4cf4-ecfa-80742e0086ca"
      },
      "source": [
        "print(\"waktu = \", time.time() - start, \"detik\")"
      ],
      "execution_count": null,
      "outputs": [
        {
          "output_type": "stream",
          "name": "stdout",
          "text": [
            "waktu =  818.5845282077789 detik\n"
          ]
        }
      ]
    },
    {
      "cell_type": "code",
      "metadata": {
        "colab": {
          "base_uri": "https://localhost:8080/"
        },
        "id": "-egv3kylkI76",
        "outputId": "c7895c69-ebcb-4a4a-b9f6-6af9a00b543e"
      },
      "source": [
        "score = model2.evaluate(train_generator)\n",
        "\n",
        "print('Loss: {:.2f}'.format(score[0]))\n",
        "print('Accuracy: {:.2f}'.format(score[1]))"
      ],
      "execution_count": null,
      "outputs": [
        {
          "output_type": "stream",
          "name": "stdout",
          "text": [
            "9/9 [==============================] - 2s 246ms/step - loss: 0.0967 - accuracy: 0.9682\n",
            "Loss: 0.10\n",
            "Accuracy: 0.97\n"
          ]
        }
      ]
    },
    {
      "cell_type": "code",
      "metadata": {
        "colab": {
          "base_uri": "https://localhost:8080/"
        },
        "id": "_QHLVUNxkL3D",
        "outputId": "0041ffc5-4d1a-4f97-d1cf-2f179260f452"
      },
      "source": [
        "score = model2.evaluate(val_generator)\n",
        "\n",
        "print('Loss: {:.2f}'.format(score[0]))\n",
        "print('Accuracy: {:.2f}'.format(score[1]))"
      ],
      "execution_count": null,
      "outputs": [
        {
          "output_type": "stream",
          "name": "stdout",
          "text": [
            "2/2 [==============================] - 0s 88ms/step - loss: 0.1547 - accuracy: 0.9348\n",
            "Loss: 0.15\n",
            "Accuracy: 0.93\n"
          ]
        }
      ]
    },
    {
      "cell_type": "code",
      "metadata": {
        "colab": {
          "base_uri": "https://localhost:8080/",
          "height": 462
        },
        "id": "q0g6390vkQCg",
        "outputId": "b6f4164f-17f9-4ce9-a5f3-ed1dfba4fe6e"
      },
      "source": [
        "plt.style.use(\"ggplot\")\n",
        "plt.figure(figsize=(12,7))\n",
        "plt.plot(history2.history[\"loss\"], label=\"train_loss\")\n",
        "plt.plot(history2.history[\"val_loss\"], label=\"val_loss\")\n",
        "plt.title(\"Loss Plot\")\n",
        "plt.xlabel(\"Epoch #\")\n",
        "plt.ylabel(\"Loss\")\n",
        "plt.legend()\n",
        "plt.show()"
      ],
      "execution_count": null,
      "outputs": [
        {
          "output_type": "display_data",
          "data": {
            "text/plain": [
              "<Figure size 864x504 with 1 Axes>"
            ],
            "image/png": "[encoded data removed]"
          },
          "metadata": {}
        }
      ]
    },
    {
      "cell_type": "code",
      "metadata": {
        "colab": {
          "base_uri": "https://localhost:8080/",
          "height": 462
        },
        "id": "iIowBAEUkVTW",
        "outputId": "eaf6a584-a5ed-4822-fc90-8d68e2f1f8fb"
      },
      "source": [
        "plt.style.use(\"ggplot\")\n",
        "plt.figure(figsize=(12,7))\n",
        "plt.plot(history2.history[\"accuracy\"], label=\"train_acc\")\n",
        "plt.plot(history2.history[\"val_accuracy\"], label=\"val_acc\")\n",
        "plt.title(\"Accuracy Plot\")\n",
        "plt.xlabel(\"Epoch #\")\n",
        "plt.ylabel(\"Acc\")\n",
        "plt.legend()\n",
        "plt.show()"
      ],
      "execution_count": null,
      "outputs": [
        {
          "output_type": "display_data",
          "data": {
            "text/plain": [
              "<Figure size 864x504 with 1 Axes>"
            ],
            "image/png": "[encoded data removed]"
          },
          "metadata": {}
        }
      ]
    },
    {
      "cell_type": "code",
      "metadata": {
        "colab": {
          "base_uri": "https://localhost:8080/"
        },
        "id": "2q4que7bkZtt",
        "outputId": "74ef92f4-a182-4b29-ef71-eb0860d0362d"
      },
      "source": [
        "score = model2.evaluate(test_generator)\n",
        "\n",
        "print('Loss: {:.2f}'.format(score[0]))\n",
        "print('Accuracy: {:.2f}'.format(score[1]))"
      ],
      "execution_count": null,
      "outputs": [
        {
          "output_type": "stream",
          "name": "stdout",
          "text": [
            "1/1 [==============================] - 0s 87ms/step - loss: 0.1930 - accuracy: 0.8000\n",
            "Loss: 0.19\n",
            "Accuracy: 0.80\n"
          ]
        }
      ]
    },
    {
      "cell_type": "code",
      "metadata": {
        "id": "CeBmHbUtkcle",
        "colab": {
          "base_uri": "https://localhost:8080/"
        },
        "outputId": "ea95a9d1-0fc9-489d-a14c-2216a7663937"
      },
      "source": [
        "pred2 = model2.predict(test_generator)\n",
        "labels = (pred2 > 0.5).astype(np.int)"
      ],
      "execution_count": null,
      "outputs": [
        {
          "output_type": "stream",
          "name": "stderr",
          "text": [
            "C:\\Users\\Nuril\\AppData\\Local\\Temp/ipykernel_6320/1658450924.py:2: DeprecationWarning: `np.int` is a deprecated alias for the builtin `int`. To silence this warning, use `int` by itself. Doing this will not modify any behavior and is safe. When replacing `np.int`, you may wish to use e.g. `np.int64` or `np.int32` to specify the precision. If you wish to review your current use, check the release note link for additional information.\n",
            "Deprecated in NumPy 1.20; for more details and guidance: https://numpy.org/devdocs/release/1.20.0-notes.html#deprecations\n",
            "  labels = (pred2 > 0.5).astype(np.int)\n"
          ]
        }
      ]
    },
    {
      "cell_type": "code",
      "metadata": {
        "colab": {
          "base_uri": "https://localhost:8080/"
        },
        "id": "GHsE81aikiuA",
        "outputId": "9fc6a780-389a-40e0-a089-fafb56f40d3f"
      },
      "source": [
        "print(classification_report(test_generator.classes, labels))"
      ],
      "execution_count": null,
      "outputs": [
        {
          "output_type": "stream",
          "name": "stdout",
          "text": [
            "              precision    recall  f1-score   support\n",
            "\n",
            "           0       0.00      0.00      0.00         2\n",
            "           1       0.50      0.67      0.57         3\n",
            "\n",
            "    accuracy                           0.40         5\n",
            "   macro avg       0.25      0.33      0.29         5\n",
            "weighted avg       0.30      0.40      0.34         5\n",
            "\n"
          ]
        }
      ]
    },
    {
      "cell_type": "code",
      "metadata": {
        "id": "Y6q9vtapktZa"
      },
      "source": [
        "# model1.save(\"model1_diabet.h5\")\n",
        "# model2.save(\"model2_diabet.h5\")"
      ],
      "execution_count": null,
      "outputs": []
    },
    {
      "cell_type": "code",
      "metadata": {
        "id": "7T-owgD-VIzi"
      },
      "source": [
        "import tensorflow as tf\n",
        "from tensorboard.plugins.hparams import api as hp"
      ],
      "execution_count": null,
      "outputs": []
    },
    {
      "cell_type": "code",
      "metadata": {
        "id": "6H4Z54VCVI62"
      },
      "source": [
        "%load_ext tensorboard"
      ],
      "execution_count": null,
      "outputs": []
    },
    {
      "cell_type": "code",
      "metadata": {
        "colab": {
          "base_uri": "https://localhost:8080/"
        },
        "id": "loFXenK_VI96",
        "outputId": "a76ecfdb-e657-4614-e37c-8ef4ebee73c6"
      },
      "source": [
        "!rm -rf ./logs/ "
      ],
      "execution_count": null,
      "outputs": [
        {
          "output_type": "stream",
          "name": "stderr",
          "text": [
            "'rm' is not recognized as an internal or external command,\n",
            "operable program or batch file.\n"
          ]
        }
      ]
    },
    {
      "cell_type": "code",
      "metadata": {
        "id": "px2LEqV7VJBD"
      },
      "source": [
        "HP_NUM_UNITS = hp.HParam('num_units', hp.Discrete([32,64,128]))\n",
        "HP_DROPOUT = hp.HParam('dropout', hp.RealInterval(0.2, 0.5))\n",
        "HP_OPTIMIZER = hp.HParam('optimizer', hp.Discrete(['adam', 'rmsprop', 'adadelta']))\n",
        "\n",
        "METRIC_ACCURACY = 'accuracy'\n",
        "\n",
        "with tf.summary.create_file_writer('logs/hparam_tuning').as_default():\n",
        "  hp.hparams_config(\n",
        "    hparams=[HP_NUM_UNITS, HP_DROPOUT, HP_OPTIMIZER],\n",
        "    metrics=[hp.Metric(METRIC_ACCURACY, display_name='Accuracy')],\n",
        "  )"
      ],
      "execution_count": null,
      "outputs": []
    },
    {
      "cell_type": "code",
      "metadata": {
        "id": "WGwugGTMVJD8"
      },
      "source": [
        "# xvl, yvl = zip(*(val_generator[i] for i in range(len(val_generator))))\n",
        "# x_val, y_val = np.vstack(xvl), np.vstack(yvl)"
      ],
      "execution_count": null,
      "outputs": []
    },
    {
      "cell_type": "code",
      "metadata": {
        "id": "u8MjjNowVJGu"
      },
      "source": [
        "def train_test_model(hparams):\n",
        "    model_hparams = Sequential([\n",
        "                     Conv2D(32, kernel_size=3, activation='relu', input_shape=(250, 250, 1)),\n",
        "                     MaxPool2D(2,2),\n",
        "\n",
        "                     Conv2D(64, kernel_size=3, activation='relu'),\n",
        "                     MaxPool2D(2,2),\n",
        "                     BatchNormalization(),\n",
        "\n",
        "                     Conv2D(128, kernel_size=3, activation='relu'),\n",
        "                     MaxPool2D(2,2),\n",
        "\n",
        "                     Dropout(hparams[HP_DROPOUT]),\n",
        "\n",
        "                     Flatten(),\n",
        "\n",
        "                     Dense(hparams[HP_NUM_UNITS], activation='relu'),\n",
        "                     Dense(1, activation='sigmoid')\n",
        "                     ])\n",
        "    \n",
        "    model_hparams.compile(optimizer=hparams[HP_OPTIMIZER], loss='binary_crossentropy', metrics=['accuracy'])\n",
        "\n",
        "    model_hparams.fit(train_generator, epochs=20, validation_data=val_generator, verbose=1)\n",
        "\n",
        "    _, accuracy = model_hparams.evaluate(val_generator)\n",
        "    return accuracy"
      ],
      "execution_count": null,
      "outputs": []
    },
    {
      "cell_type": "code",
      "metadata": {
        "id": "Q1VPdN08VJJH"
      },
      "source": [
        "def run(run_dir, hparams):\n",
        "  with tf.summary.create_file_writer(run_dir).as_default():\n",
        "    hp.hparams(hparams)  # record the values used in this trial\n",
        "    accuracy = train_test_model(hparams)\n",
        "    tf.summary.scalar(METRIC_ACCURACY, accuracy, step=50)"
      ],
      "execution_count": null,
      "outputs": []
    },
    {
      "cell_type": "code",
      "metadata": {
        "colab": {
          "base_uri": "https://localhost:8080/"
        },
        "id": "oCIYEa_-av0d",
        "outputId": "b26fcefc-58f1-4f12-a619-1af79fb061d4"
      },
      "source": [
        "['adam', 'sgd', 'adadelta', 'rmsprop', 'adamx', 'nadam']"
      ],
      "execution_count": null,
      "outputs": [
        {
          "output_type": "execute_result",
          "data": {
            "text/plain": [
              "['adam', 'sgd', 'adadelta', 'rmsprop', 'adamx', 'nadam']"
            ]
          },
          "metadata": {},
          "execution_count": 63
        }
      ]
    },
    {
      "cell_type": "code",
      "metadata": {
        "colab": {
          "base_uri": "https://localhost:8080/"
        },
        "id": "gS6M5nntawbe",
        "outputId": "169be70e-8fea-4216-bfd1-d965a2dad3cc"
      },
      "source": [
        "session_num = 0\n",
        "\n",
        "for num_units in HP_NUM_UNITS.domain.values:\n",
        "  for dropout_rate in (HP_DROPOUT.domain.min_value, HP_DROPOUT.domain.max_value):\n",
        "    for optimizer in HP_OPTIMIZER.domain.values:\n",
        "      hparams = {\n",
        "          HP_NUM_UNITS: num_units,\n",
        "          HP_DROPOUT: dropout_rate,\n",
        "          HP_OPTIMIZER: optimizer,\n",
        "      }\n",
        "      run_name = \"run-%d\" % session_num\n",
        "      print('--- Starting trial: %s' % run_name)\n",
        "      print({h.name: hparams[h] for h in hparams})\n",
        "      run('logs/hparam_tuning/' + run_name, hparams)\n",
        "      session_num += 1\n"
      ],
      "execution_count": null,
      "outputs": [
        {
          "output_type": "stream",
          "name": "stdout",
          "text": [
            "--- Starting trial: run-0\n",
            "{'num_units': 32, 'dropout': 0.2, 'optimizer': 'adadelta'}\n",
            "Epoch 1/20\n",
            "9/9 [==============================] - 9s 898ms/step - loss: 0.6431 - accuracy: 0.6254 - val_loss: 0.6915 - val_accuracy: 0.5870\n",
            "Epoch 2/20\n",
            "9/9 [==============================] - 8s 869ms/step - loss: 0.6024 - accuracy: 0.7314 - val_loss: 0.6846 - val_accuracy: 0.7174\n",
            "Epoch 3/20\n",
            "9/9 [==============================] - 8s 901ms/step - loss: 0.5920 - accuracy: 0.7279 - val_loss: 0.6814 - val_accuracy: 0.7391\n",
            "Epoch 4/20\n",
            "9/9 [==============================] - 8s 864ms/step - loss: 0.5823 - accuracy: 0.7314 - val_loss: 0.6797 - val_accuracy: 0.7391\n",
            "Epoch 5/20\n",
            "9/9 [==============================] - 8s 873ms/step - loss: 0.5765 - accuracy: 0.7279 - val_loss: 0.6784 - val_accuracy: 0.7391\n",
            "Epoch 6/20\n",
            "9/9 [==============================] - 8s 872ms/step - loss: 0.5720 - accuracy: 0.7279 - val_loss: 0.6774 - val_accuracy: 0.7391\n",
            "Epoch 7/20\n",
            "9/9 [==============================] - 8s 862ms/step - loss: 0.5635 - accuracy: 0.7314 - val_loss: 0.6761 - val_accuracy: 0.7391\n",
            "Epoch 8/20\n",
            "9/9 [==============================] - 8s 866ms/step - loss: 0.5693 - accuracy: 0.7314 - val_loss: 0.6754 - val_accuracy: 0.7391\n",
            "Epoch 9/20\n",
            "9/9 [==============================] - 8s 876ms/step - loss: 0.5543 - accuracy: 0.7314 - val_loss: 0.6736 - val_accuracy: 0.7391\n",
            "Epoch 10/20\n",
            "9/9 [==============================] - 8s 876ms/step - loss: 0.5576 - accuracy: 0.7279 - val_loss: 0.6733 - val_accuracy: 0.7391\n",
            "Epoch 11/20\n",
            "9/9 [==============================] - 8s 861ms/step - loss: 0.5473 - accuracy: 0.7314 - val_loss: 0.6708 - val_accuracy: 0.7391\n",
            "Epoch 12/20\n",
            "9/9 [==============================] - 8s 860ms/step - loss: 0.5488 - accuracy: 0.7350 - val_loss: 0.6688 - val_accuracy: 0.7391\n",
            "Epoch 13/20\n",
            "9/9 [==============================] - 8s 868ms/step - loss: 0.5478 - accuracy: 0.7279 - val_loss: 0.6670 - val_accuracy: 0.7391\n",
            "Epoch 14/20\n",
            "9/9 [==============================] - 8s 874ms/step - loss: 0.5461 - accuracy: 0.7279 - val_loss: 0.6645 - val_accuracy: 0.7391\n",
            "Epoch 15/20\n",
            "9/9 [==============================] - 8s 907ms/step - loss: 0.5373 - accuracy: 0.7314 - val_loss: 0.6625 - val_accuracy: 0.7391\n",
            "Epoch 16/20\n",
            "9/9 [==============================] - 8s 955ms/step - loss: 0.5508 - accuracy: 0.7279 - val_loss: 0.6614 - val_accuracy: 0.7391\n",
            "Epoch 17/20\n",
            "9/9 [==============================] - 9s 949ms/step - loss: 0.5331 - accuracy: 0.7350 - val_loss: 0.6581 - val_accuracy: 0.7391\n",
            "Epoch 18/20\n",
            "9/9 [==============================] - 8s 889ms/step - loss: 0.5344 - accuracy: 0.7314 - val_loss: 0.6561 - val_accuracy: 0.7391\n",
            "Epoch 19/20\n",
            "9/9 [==============================] - 8s 903ms/step - loss: 0.5388 - accuracy: 0.7314 - val_loss: 0.6528 - val_accuracy: 0.7391\n",
            "Epoch 20/20\n",
            "9/9 [==============================] - 8s 886ms/step - loss: 0.5239 - accuracy: 0.7279 - val_loss: 0.6506 - val_accuracy: 0.7391\n",
            "2/2 [==============================] - 0s 105ms/step - loss: 0.6506 - accuracy: 0.7391\n",
            "--- Starting trial: run-1\n",
            "{'num_units': 32, 'dropout': 0.2, 'optimizer': 'adam'}\n",
            "Epoch 1/20\n",
            "9/9 [==============================] - 9s 929ms/step - loss: 2.7985 - accuracy: 0.5548 - val_loss: 0.6932 - val_accuracy: 0.2609\n",
            "Epoch 2/20\n",
            "9/9 [==============================] - 8s 919ms/step - loss: 0.6632 - accuracy: 0.6784 - val_loss: 0.6919 - val_accuracy: 0.7391\n",
            "Epoch 3/20\n",
            "9/9 [==============================] - 8s 906ms/step - loss: 0.5907 - accuracy: 0.7314 - val_loss: 0.6896 - val_accuracy: 0.7391\n",
            "Epoch 4/20\n",
            "9/9 [==============================] - 8s 915ms/step - loss: 0.5531 - accuracy: 0.7314 - val_loss: 0.6853 - val_accuracy: 0.7391\n",
            "Epoch 5/20\n",
            "9/9 [==============================] - 8s 919ms/step - loss: 0.5440 - accuracy: 0.7314 - val_loss: 0.6868 - val_accuracy: 0.7391\n",
            "Epoch 6/20\n",
            "9/9 [==============================] - 9s 937ms/step - loss: 0.5091 - accuracy: 0.7314 - val_loss: 0.6770 - val_accuracy: 0.7391\n",
            "Epoch 7/20\n",
            "9/9 [==============================] - 8s 898ms/step - loss: 0.4860 - accuracy: 0.7314 - val_loss: 0.6766 - val_accuracy: 0.7391\n",
            "Epoch 8/20\n",
            "9/9 [==============================] - 8s 922ms/step - loss: 0.4962 - accuracy: 0.7314 - val_loss: 0.6684 - val_accuracy: 0.7391\n",
            "Epoch 9/20\n",
            "9/9 [==============================] - 8s 906ms/step - loss: 0.4772 - accuracy: 0.7314 - val_loss: 0.6728 - val_accuracy: 0.7391\n",
            "Epoch 10/20\n",
            "9/9 [==============================] - 8s 898ms/step - loss: 0.4480 - accuracy: 0.7314 - val_loss: 0.6781 - val_accuracy: 0.7391\n",
            "Epoch 11/20\n",
            "9/9 [==============================] - 8s 901ms/step - loss: 0.4303 - accuracy: 0.7314 - val_loss: 0.6755 - val_accuracy: 0.7391\n",
            "Epoch 12/20\n",
            "9/9 [==============================] - 8s 898ms/step - loss: 0.4317 - accuracy: 0.7314 - val_loss: 0.6844 - val_accuracy: 0.7391\n",
            "Epoch 13/20\n",
            "9/9 [==============================] - 8s 894ms/step - loss: 0.4137 - accuracy: 0.7703 - val_loss: 0.6780 - val_accuracy: 0.7609\n",
            "Epoch 14/20\n",
            "9/9 [==============================] - 8s 890ms/step - loss: 0.4215 - accuracy: 0.7845 - val_loss: 0.6652 - val_accuracy: 0.7609\n",
            "Epoch 15/20\n",
            "9/9 [==============================] - 8s 921ms/step - loss: 0.4253 - accuracy: 0.8021 - val_loss: 0.6883 - val_accuracy: 0.5217\n",
            "Epoch 16/20\n",
            "9/9 [==============================] - 8s 899ms/step - loss: 0.4078 - accuracy: 0.8021 - val_loss: 0.6951 - val_accuracy: 0.2826\n",
            "Epoch 17/20\n",
            "9/9 [==============================] - 8s 889ms/step - loss: 0.4016 - accuracy: 0.7915 - val_loss: 0.6962 - val_accuracy: 0.2609\n",
            "Epoch 18/20\n",
            "9/9 [==============================] - 8s 887ms/step - loss: 0.3638 - accuracy: 0.8304 - val_loss: 0.6970 - val_accuracy: 0.2609\n",
            "Epoch 19/20\n",
            "9/9 [==============================] - 8s 892ms/step - loss: 0.3824 - accuracy: 0.8410 - val_loss: 0.6924 - val_accuracy: 0.3478\n",
            "Epoch 20/20\n",
            "9/9 [==============================] - 8s 892ms/step - loss: 0.4038 - accuracy: 0.8198 - val_loss: 0.6962 - val_accuracy: 0.3043\n",
            "2/2 [==============================] - 0s 97ms/step - loss: 0.6962 - accuracy: 0.3043\n",
            "--- Starting trial: run-2\n",
            "{'num_units': 32, 'dropout': 0.2, 'optimizer': 'rmsprop'}\n",
            "Epoch 1/20\n",
            "9/9 [==============================] - 9s 881ms/step - loss: 5.3837 - accuracy: 0.6360 - val_loss: 0.6920 - val_accuracy: 0.7391\n",
            "Epoch 2/20\n",
            "9/9 [==============================] - 8s 859ms/step - loss: 0.6914 - accuracy: 0.7350 - val_loss: 0.6895 - val_accuracy: 0.7391\n",
            "Epoch 3/20\n",
            "9/9 [==============================] - 8s 867ms/step - loss: 0.6890 - accuracy: 0.7279 - val_loss: 0.6874 - val_accuracy: 0.7391\n",
            "Epoch 4/20\n",
            "9/9 [==============================] - 8s 898ms/step - loss: 0.5711 - accuracy: 0.7314 - val_loss: 0.6686 - val_accuracy: 0.7391\n",
            "Epoch 5/20\n",
            "9/9 [==============================] - 8s 862ms/step - loss: 0.6131 - accuracy: 0.7314 - val_loss: 0.6786 - val_accuracy: 0.7391\n",
            "Epoch 6/20\n",
            "9/9 [==============================] - 8s 929ms/step - loss: 0.5675 - accuracy: 0.7314 - val_loss: 0.6858 - val_accuracy: 0.7391\n",
            "Epoch 7/20\n",
            "9/9 [==============================] - 9s 1s/step - loss: 0.4927 - accuracy: 0.7314 - val_loss: 0.6816 - val_accuracy: 0.7391\n",
            "Epoch 8/20\n",
            "9/9 [==============================] - 8s 857ms/step - loss: 0.5510 - accuracy: 0.7314 - val_loss: 0.6856 - val_accuracy: 0.7391\n",
            "Epoch 9/20\n",
            "9/9 [==============================] - 8s 846ms/step - loss: 0.5328 - accuracy: 0.7314 - val_loss: 0.6869 - val_accuracy: 0.7391\n",
            "Epoch 10/20\n",
            "9/9 [==============================] - 8s 848ms/step - loss: 0.4476 - accuracy: 0.7314 - val_loss: 0.6869 - val_accuracy: 0.7391\n",
            "Epoch 11/20\n",
            "9/9 [==============================] - 8s 876ms/step - loss: 0.4359 - accuracy: 0.7314 - val_loss: 0.6867 - val_accuracy: 0.7391\n",
            "Epoch 12/20\n",
            "9/9 [==============================] - 8s 922ms/step - loss: 0.5164 - accuracy: 0.7314 - val_loss: 0.6847 - val_accuracy: 0.7391\n",
            "Epoch 13/20\n",
            "9/9 [==============================] - 8s 914ms/step - loss: 0.4719 - accuracy: 0.7314 - val_loss: 0.6891 - val_accuracy: 0.7391\n",
            "Epoch 14/20\n",
            "9/9 [==============================] - 8s 871ms/step - loss: 0.4194 - accuracy: 0.7314 - val_loss: 0.6905 - val_accuracy: 0.7391\n",
            "Epoch 15/20\n",
            "9/9 [==============================] - 8s 870ms/step - loss: 0.4312 - accuracy: 0.7314 - val_loss: 0.6913 - val_accuracy: 0.7391\n",
            "Epoch 16/20\n",
            "9/9 [==============================] - 8s 865ms/step - loss: 0.3672 - accuracy: 0.7314 - val_loss: 0.6891 - val_accuracy: 0.7391\n",
            "Epoch 17/20\n",
            "9/9 [==============================] - 8s 869ms/step - loss: 0.3550 - accuracy: 0.7845 - val_loss: 0.6937 - val_accuracy: 0.3696\n",
            "Epoch 18/20\n",
            "9/9 [==============================] - 8s 858ms/step - loss: 0.3906 - accuracy: 0.7986 - val_loss: 0.6951 - val_accuracy: 0.2609\n",
            "Epoch 19/20\n",
            "9/9 [==============================] - 8s 868ms/step - loss: 0.4086 - accuracy: 0.8304 - val_loss: 0.6910 - val_accuracy: 0.5652\n",
            "Epoch 20/20\n",
            "9/9 [==============================] - 8s 863ms/step - loss: 0.3713 - accuracy: 0.8339 - val_loss: 0.6928 - val_accuracy: 0.4348\n",
            "2/2 [==============================] - 0s 94ms/step - loss: 0.6928 - accuracy: 0.4348\n",
            "--- Starting trial: run-3\n",
            "{'num_units': 32, 'dropout': 0.5, 'optimizer': 'adadelta'}\n",
            "Epoch 1/20\n",
            "9/9 [==============================] - 8s 883ms/step - loss: 0.6860 - accuracy: 0.5477 - val_loss: 0.6874 - val_accuracy: 0.7391\n",
            "Epoch 2/20\n",
            "9/9 [==============================] - 8s 866ms/step - loss: 0.6373 - accuracy: 0.6466 - val_loss: 0.6838 - val_accuracy: 0.7391\n",
            "Epoch 3/20\n",
            "9/9 [==============================] - 8s 863ms/step - loss: 0.6063 - accuracy: 0.7102 - val_loss: 0.6814 - val_accuracy: 0.7391\n",
            "Epoch 4/20\n",
            "9/9 [==============================] - 8s 882ms/step - loss: 0.5928 - accuracy: 0.7208 - val_loss: 0.6796 - val_accuracy: 0.7391\n",
            "Epoch 5/20\n",
            "9/9 [==============================] - 8s 870ms/step - loss: 0.5887 - accuracy: 0.7244 - val_loss: 0.6781 - val_accuracy: 0.7391\n",
            "Epoch 6/20\n",
            "9/9 [==============================] - 8s 884ms/step - loss: 0.5857 - accuracy: 0.7279 - val_loss: 0.6770 - val_accuracy: 0.7391\n",
            "Epoch 7/20\n",
            "9/9 [==============================] - 8s 861ms/step - loss: 0.5714 - accuracy: 0.7279 - val_loss: 0.6761 - val_accuracy: 0.7391\n",
            "Epoch 8/20\n",
            "9/9 [==============================] - 8s 865ms/step - loss: 0.5801 - accuracy: 0.7279 - val_loss: 0.6757 - val_accuracy: 0.7391\n",
            "Epoch 9/20\n",
            "9/9 [==============================] - 8s 886ms/step - loss: 0.5825 - accuracy: 0.7279 - val_loss: 0.6749 - val_accuracy: 0.7391\n",
            "Epoch 10/20\n",
            "9/9 [==============================] - 8s 866ms/step - loss: 0.5686 - accuracy: 0.7314 - val_loss: 0.6741 - val_accuracy: 0.7391\n",
            "Epoch 11/20\n",
            "9/9 [==============================] - 8s 872ms/step - loss: 0.5617 - accuracy: 0.7279 - val_loss: 0.6732 - val_accuracy: 0.7391\n",
            "Epoch 12/20\n",
            "9/9 [==============================] - 8s 882ms/step - loss: 0.5584 - accuracy: 0.7385 - val_loss: 0.6725 - val_accuracy: 0.7391\n",
            "Epoch 13/20\n",
            "9/9 [==============================] - 8s 864ms/step - loss: 0.5472 - accuracy: 0.7314 - val_loss: 0.6713 - val_accuracy: 0.7391\n",
            "Epoch 14/20\n",
            "9/9 [==============================] - 8s 872ms/step - loss: 0.5483 - accuracy: 0.7279 - val_loss: 0.6700 - val_accuracy: 0.7391\n",
            "Epoch 15/20\n",
            "9/9 [==============================] - 8s 865ms/step - loss: 0.5587 - accuracy: 0.7314 - val_loss: 0.6689 - val_accuracy: 0.7391\n",
            "Epoch 16/20\n",
            "9/9 [==============================] - 8s 877ms/step - loss: 0.5563 - accuracy: 0.7314 - val_loss: 0.6676 - val_accuracy: 0.7391\n",
            "Epoch 17/20\n",
            "9/9 [==============================] - 8s 872ms/step - loss: 0.5725 - accuracy: 0.7314 - val_loss: 0.6668 - val_accuracy: 0.7391\n",
            "Epoch 18/20\n",
            "9/9 [==============================] - 8s 874ms/step - loss: 0.5423 - accuracy: 0.7314 - val_loss: 0.6654 - val_accuracy: 0.7391\n",
            "Epoch 19/20\n",
            "9/9 [==============================] - 8s 877ms/step - loss: 0.5540 - accuracy: 0.7314 - val_loss: 0.6638 - val_accuracy: 0.7391\n",
            "Epoch 20/20\n",
            "9/9 [==============================] - 8s 881ms/step - loss: 0.5500 - accuracy: 0.7314 - val_loss: 0.6625 - val_accuracy: 0.7391\n",
            "2/2 [==============================] - 0s 90ms/step - loss: 0.6625 - accuracy: 0.7391\n",
            "--- Starting trial: run-4\n",
            "{'num_units': 32, 'dropout': 0.5, 'optimizer': 'adam'}\n",
            "Epoch 1/20\n",
            "9/9 [==============================] - 8s 892ms/step - loss: 2.2273 - accuracy: 0.5866 - val_loss: 0.6887 - val_accuracy: 0.7391\n",
            "Epoch 2/20\n",
            "9/9 [==============================] - 8s 856ms/step - loss: 0.6317 - accuracy: 0.6466 - val_loss: 0.6892 - val_accuracy: 0.7391\n",
            "Epoch 3/20\n",
            "9/9 [==============================] - 8s 903ms/step - loss: 0.5214 - accuracy: 0.7314 - val_loss: 0.6876 - val_accuracy: 0.7391\n",
            "Epoch 4/20\n",
            "9/9 [==============================] - 8s 913ms/step - loss: 0.4567 - accuracy: 0.7774 - val_loss: 0.6863 - val_accuracy: 0.7826\n",
            "Epoch 5/20\n",
            "9/9 [==============================] - 8s 886ms/step - loss: 0.4444 - accuracy: 0.7703 - val_loss: 0.6888 - val_accuracy: 0.6304\n",
            "Epoch 6/20\n",
            "9/9 [==============================] - 8s 860ms/step - loss: 0.4209 - accuracy: 0.7951 - val_loss: 0.6969 - val_accuracy: 0.3696\n",
            "Epoch 7/20\n",
            "9/9 [==============================] - 8s 878ms/step - loss: 0.3909 - accuracy: 0.8269 - val_loss: 0.7060 - val_accuracy: 0.2826\n",
            "Epoch 8/20\n",
            "9/9 [==============================] - 8s 868ms/step - loss: 0.3604 - accuracy: 0.8375 - val_loss: 0.7063 - val_accuracy: 0.2826\n",
            "Epoch 9/20\n",
            "9/9 [==============================] - 8s 885ms/step - loss: 0.3556 - accuracy: 0.8304 - val_loss: 0.7134 - val_accuracy: 0.2609\n",
            "Epoch 10/20\n",
            "9/9 [==============================] - 8s 858ms/step - loss: 0.3354 - accuracy: 0.8445 - val_loss: 0.7124 - val_accuracy: 0.2826\n",
            "Epoch 11/20\n",
            "9/9 [==============================] - 8s 867ms/step - loss: 0.3463 - accuracy: 0.8269 - val_loss: 0.7190 - val_accuracy: 0.2609\n",
            "Epoch 12/20\n",
            "9/9 [==============================] - 8s 862ms/step - loss: 0.3090 - accuracy: 0.8587 - val_loss: 0.7225 - val_accuracy: 0.2609\n",
            "Epoch 13/20\n",
            "9/9 [==============================] - 8s 875ms/step - loss: 0.4375 - accuracy: 0.8092 - val_loss: 0.7064 - val_accuracy: 0.2609\n",
            "Epoch 14/20\n",
            "9/9 [==============================] - 8s 859ms/step - loss: 0.4031 - accuracy: 0.8304 - val_loss: 0.6712 - val_accuracy: 0.8696\n",
            "Epoch 15/20\n",
            "9/9 [==============================] - 8s 867ms/step - loss: 0.3438 - accuracy: 0.8445 - val_loss: 0.6681 - val_accuracy: 0.8043\n",
            "Epoch 16/20\n",
            "9/9 [==============================] - 8s 860ms/step - loss: 0.3299 - accuracy: 0.8269 - val_loss: 0.6766 - val_accuracy: 0.7826\n",
            "Epoch 17/20\n",
            "9/9 [==============================] - 8s 855ms/step - loss: 0.3148 - accuracy: 0.8551 - val_loss: 0.6890 - val_accuracy: 0.5652\n",
            "Epoch 18/20\n",
            "9/9 [==============================] - 8s 855ms/step - loss: 0.3378 - accuracy: 0.8339 - val_loss: 0.6861 - val_accuracy: 0.5870\n",
            "Epoch 19/20\n",
            "9/9 [==============================] - 8s 873ms/step - loss: 0.2880 - accuracy: 0.8728 - val_loss: 0.6782 - val_accuracy: 0.6739\n",
            "Epoch 20/20\n",
            "9/9 [==============================] - 8s 862ms/step - loss: 0.3260 - accuracy: 0.8587 - val_loss: 0.6944 - val_accuracy: 0.3261\n",
            "2/2 [==============================] - 0s 98ms/step - loss: 0.6944 - accuracy: 0.3261\n",
            "--- Starting trial: run-5\n",
            "{'num_units': 32, 'dropout': 0.5, 'optimizer': 'rmsprop'}\n",
            "Epoch 1/20\n",
            "9/9 [==============================] - 9s 894ms/step - loss: 5.4188 - accuracy: 0.6466 - val_loss: 0.6897 - val_accuracy: 0.7391\n",
            "Epoch 2/20\n",
            "9/9 [==============================] - 8s 885ms/step - loss: 0.6233 - accuracy: 0.7314 - val_loss: 0.6777 - val_accuracy: 0.7391\n",
            "Epoch 3/20\n",
            "9/9 [==============================] - 8s 863ms/step - loss: 0.5361 - accuracy: 0.7314 - val_loss: 0.6867 - val_accuracy: 0.7391\n",
            "Epoch 4/20\n",
            "9/9 [==============================] - 8s 866ms/step - loss: 0.5538 - accuracy: 0.7314 - val_loss: 0.6886 - val_accuracy: 0.7391\n",
            "Epoch 5/20\n",
            "9/9 [==============================] - 8s 866ms/step - loss: 0.4893 - accuracy: 0.7314 - val_loss: 0.6859 - val_accuracy: 0.7391\n",
            "Epoch 6/20\n",
            "9/9 [==============================] - 8s 876ms/step - loss: 0.5273 - accuracy: 0.7314 - val_loss: 0.6833 - val_accuracy: 0.7391\n",
            "Epoch 7/20\n",
            "9/9 [==============================] - 8s 868ms/step - loss: 0.4856 - accuracy: 0.7314 - val_loss: 0.6840 - val_accuracy: 0.7391\n",
            "Epoch 8/20\n",
            "9/9 [==============================] - 8s 878ms/step - loss: 0.5029 - accuracy: 0.7314 - val_loss: 0.6861 - val_accuracy: 0.7391\n",
            "Epoch 9/20\n",
            "9/9 [==============================] - 8s 882ms/step - loss: 0.4893 - accuracy: 0.7279 - val_loss: 0.6889 - val_accuracy: 0.7174\n",
            "Epoch 10/20\n",
            "9/9 [==============================] - 8s 864ms/step - loss: 0.5073 - accuracy: 0.7456 - val_loss: 0.6931 - val_accuracy: 0.5000\n",
            "Epoch 11/20\n",
            "9/9 [==============================] - 8s 868ms/step - loss: 0.4288 - accuracy: 0.7809 - val_loss: 0.6901 - val_accuracy: 0.7174\n",
            "Epoch 12/20\n",
            "9/9 [==============================] - 8s 873ms/step - loss: 0.4255 - accuracy: 0.7774 - val_loss: 0.6921 - val_accuracy: 0.6304\n",
            "Epoch 13/20\n",
            "9/9 [==============================] - 8s 871ms/step - loss: 0.4836 - accuracy: 0.7845 - val_loss: 0.6932 - val_accuracy: 0.4348\n",
            "Epoch 14/20\n",
            "9/9 [==============================] - 8s 870ms/step - loss: 0.3969 - accuracy: 0.8304 - val_loss: 0.6946 - val_accuracy: 0.3478\n",
            "Epoch 15/20\n",
            "9/9 [==============================] - 8s 872ms/step - loss: 0.4002 - accuracy: 0.8269 - val_loss: 0.6831 - val_accuracy: 0.6304\n",
            "Epoch 16/20\n",
            "9/9 [==============================] - 8s 870ms/step - loss: 0.3860 - accuracy: 0.8163 - val_loss: 0.6962 - val_accuracy: 0.3043\n",
            "Epoch 17/20\n",
            "9/9 [==============================] - 8s 871ms/step - loss: 0.3937 - accuracy: 0.8481 - val_loss: 0.7000 - val_accuracy: 0.2609\n",
            "Epoch 18/20\n",
            "9/9 [==============================] - 8s 870ms/step - loss: 0.3700 - accuracy: 0.8445 - val_loss: 0.6994 - val_accuracy: 0.2609\n",
            "Epoch 19/20\n",
            "9/9 [==============================] - 8s 875ms/step - loss: 0.3825 - accuracy: 0.8728 - val_loss: 0.6976 - val_accuracy: 0.3261\n",
            "Epoch 20/20\n",
            "9/9 [==============================] - 8s 870ms/step - loss: 0.3708 - accuracy: 0.8198 - val_loss: 0.7012 - val_accuracy: 0.2609\n",
            "2/2 [==============================] - 0s 87ms/step - loss: 0.7012 - accuracy: 0.2609\n",
            "--- Starting trial: run-6\n",
            "{'num_units': 64, 'dropout': 0.2, 'optimizer': 'adadelta'}\n",
            "Epoch 1/20\n",
            "9/9 [==============================] - 9s 976ms/step - loss: 0.7309 - accuracy: 0.4664 - val_loss: 0.6836 - val_accuracy: 0.7391\n",
            "Epoch 2/20\n",
            "9/9 [==============================] - 9s 985ms/step - loss: 0.6045 - accuracy: 0.7032 - val_loss: 0.6774 - val_accuracy: 0.7391\n",
            "Epoch 3/20\n",
            "9/9 [==============================] - 9s 967ms/step - loss: 0.5809 - accuracy: 0.7244 - val_loss: 0.6743 - val_accuracy: 0.7391\n",
            "Epoch 4/20\n",
            "9/9 [==============================] - 9s 955ms/step - loss: 0.5664 - accuracy: 0.7314 - val_loss: 0.6726 - val_accuracy: 0.7391\n",
            "Epoch 5/20\n",
            "9/9 [==============================] - 9s 951ms/step - loss: 0.5808 - accuracy: 0.7279 - val_loss: 0.6714 - val_accuracy: 0.7391\n",
            "Epoch 6/20\n",
            "9/9 [==============================] - 9s 967ms/step - loss: 0.5775 - accuracy: 0.7314 - val_loss: 0.6706 - val_accuracy: 0.7391\n",
            "Epoch 7/20\n",
            "9/9 [==============================] - 9s 965ms/step - loss: 0.5547 - accuracy: 0.7314 - val_loss: 0.6693 - val_accuracy: 0.7391\n",
            "Epoch 8/20\n",
            "9/9 [==============================] - 9s 948ms/step - loss: 0.5496 - accuracy: 0.7314 - val_loss: 0.6683 - val_accuracy: 0.7391\n",
            "Epoch 9/20\n",
            "9/9 [==============================] - 9s 945ms/step - loss: 0.5409 - accuracy: 0.7314 - val_loss: 0.6669 - val_accuracy: 0.7391\n",
            "Epoch 10/20\n",
            "9/9 [==============================] - 9s 974ms/step - loss: 0.5378 - accuracy: 0.7314 - val_loss: 0.6657 - val_accuracy: 0.7391\n",
            "Epoch 11/20\n",
            "9/9 [==============================] - 9s 966ms/step - loss: 0.5392 - accuracy: 0.7314 - val_loss: 0.6651 - val_accuracy: 0.7391\n",
            "Epoch 12/20\n",
            "9/9 [==============================] - 9s 940ms/step - loss: 0.5307 - accuracy: 0.7314 - val_loss: 0.6636 - val_accuracy: 0.7391\n",
            "Epoch 13/20\n",
            "9/9 [==============================] - 9s 949ms/step - loss: 0.5241 - accuracy: 0.7350 - val_loss: 0.6612 - val_accuracy: 0.7391\n",
            "Epoch 14/20\n",
            "9/9 [==============================] - 9s 947ms/step - loss: 0.5373 - accuracy: 0.7385 - val_loss: 0.6597 - val_accuracy: 0.7391\n",
            "Epoch 15/20\n",
            "9/9 [==============================] - 9s 947ms/step - loss: 0.5249 - accuracy: 0.7350 - val_loss: 0.6572 - val_accuracy: 0.7391\n",
            "Epoch 16/20\n",
            "9/9 [==============================] - 9s 950ms/step - loss: 0.5309 - accuracy: 0.7314 - val_loss: 0.6558 - val_accuracy: 0.7391\n",
            "Epoch 17/20\n",
            "9/9 [==============================] - 9s 948ms/step - loss: 0.5151 - accuracy: 0.7385 - val_loss: 0.6524 - val_accuracy: 0.7391\n",
            "Epoch 18/20\n",
            "9/9 [==============================] - 9s 947ms/step - loss: 0.5148 - accuracy: 0.7350 - val_loss: 0.6502 - val_accuracy: 0.7391\n",
            "Epoch 19/20\n",
            "9/9 [==============================] - 9s 957ms/step - loss: 0.5087 - accuracy: 0.7350 - val_loss: 0.6483 - val_accuracy: 0.7391\n",
            "Epoch 20/20\n",
            "9/9 [==============================] - 9s 942ms/step - loss: 0.5299 - accuracy: 0.7208 - val_loss: 0.6445 - val_accuracy: 0.7391\n",
            "2/2 [==============================] - 0s 94ms/step - loss: 0.6445 - accuracy: 0.7391\n",
            "--- Starting trial: run-7\n",
            "{'num_units': 64, 'dropout': 0.2, 'optimizer': 'adam'}\n",
            "Epoch 1/20\n",
            "9/9 [==============================] - 9s 937ms/step - loss: 3.0849 - accuracy: 0.4947 - val_loss: 0.6932 - val_accuracy: 0.2609\n",
            "Epoch 2/20\n",
            "9/9 [==============================] - 8s 930ms/step - loss: 0.6926 - accuracy: 0.6961 - val_loss: 0.6918 - val_accuracy: 0.7391\n",
            "Epoch 3/20\n",
            "9/9 [==============================] - 8s 922ms/step - loss: 0.6911 - accuracy: 0.7314 - val_loss: 0.6899 - val_accuracy: 0.7391\n",
            "Epoch 4/20\n",
            "9/9 [==============================] - 8s 928ms/step - loss: 0.6891 - accuracy: 0.7314 - val_loss: 0.6880 - val_accuracy: 0.7391\n",
            "Epoch 5/20\n",
            "9/9 [==============================] - 8s 916ms/step - loss: 0.6873 - accuracy: 0.7314 - val_loss: 0.6860 - val_accuracy: 0.7391\n",
            "Epoch 6/20\n",
            "9/9 [==============================] - 8s 921ms/step - loss: 0.6855 - accuracy: 0.7314 - val_loss: 0.6840 - val_accuracy: 0.7391\n",
            "Epoch 7/20\n",
            "9/9 [==============================] - 8s 913ms/step - loss: 0.6835 - accuracy: 0.7314 - val_loss: 0.6821 - val_accuracy: 0.7391\n",
            "Epoch 8/20\n",
            "9/9 [==============================] - 8s 942ms/step - loss: 0.6817 - accuracy: 0.7314 - val_loss: 0.6803 - val_accuracy: 0.7391\n",
            "Epoch 9/20\n",
            "9/9 [==============================] - 8s 912ms/step - loss: 0.6799 - accuracy: 0.7314 - val_loss: 0.6784 - val_accuracy: 0.7391\n",
            "Epoch 10/20\n",
            "9/9 [==============================] - 8s 906ms/step - loss: 0.6781 - accuracy: 0.7314 - val_loss: 0.6766 - val_accuracy: 0.7391\n",
            "Epoch 11/20\n",
            "9/9 [==============================] - 8s 917ms/step - loss: 0.6764 - accuracy: 0.7314 - val_loss: 0.6747 - val_accuracy: 0.7391\n",
            "Epoch 12/20\n",
            "9/9 [==============================] - 8s 917ms/step - loss: 0.6746 - accuracy: 0.7314 - val_loss: 0.6730 - val_accuracy: 0.7391\n",
            "Epoch 13/20\n",
            "9/9 [==============================] - 8s 904ms/step - loss: 0.6729 - accuracy: 0.7314 - val_loss: 0.6712 - val_accuracy: 0.7391\n",
            "Epoch 14/20\n",
            "9/9 [==============================] - 8s 918ms/step - loss: 0.6712 - accuracy: 0.7314 - val_loss: 0.6695 - val_accuracy: 0.7391\n",
            "Epoch 15/20\n",
            "9/9 [==============================] - 8s 915ms/step - loss: 0.6696 - accuracy: 0.7314 - val_loss: 0.6678 - val_accuracy: 0.7391\n",
            "Epoch 16/20\n",
            "9/9 [==============================] - 8s 917ms/step - loss: 0.6679 - accuracy: 0.7314 - val_loss: 0.6661 - val_accuracy: 0.7391\n",
            "Epoch 17/20\n",
            "9/9 [==============================] - 8s 916ms/step - loss: 0.6663 - accuracy: 0.7314 - val_loss: 0.6645 - val_accuracy: 0.7391\n",
            "Epoch 18/20\n",
            "9/9 [==============================] - 9s 932ms/step - loss: 0.6647 - accuracy: 0.7314 - val_loss: 0.6629 - val_accuracy: 0.7391\n",
            "Epoch 19/20\n",
            "9/9 [==============================] - 8s 884ms/step - loss: 0.6632 - accuracy: 0.7314 - val_loss: 0.6612 - val_accuracy: 0.7391\n",
            "Epoch 20/20\n",
            "9/9 [==============================] - 8s 896ms/step - loss: 0.6615 - accuracy: 0.7314 - val_loss: 0.6596 - val_accuracy: 0.7391\n",
            "2/2 [==============================] - 0s 87ms/step - loss: 0.6596 - accuracy: 0.7391\n",
            "--- Starting trial: run-8\n",
            "{'num_units': 64, 'dropout': 0.2, 'optimizer': 'rmsprop'}\n",
            "Epoch 1/20\n",
            "9/9 [==============================] - 9s 937ms/step - loss: 9.0234 - accuracy: 0.4664 - val_loss: 0.6913 - val_accuracy: 0.7391\n",
            "Epoch 2/20\n",
            "9/9 [==============================] - 8s 924ms/step - loss: 0.6751 - accuracy: 0.7385 - val_loss: 0.6681 - val_accuracy: 0.7391\n",
            "Epoch 3/20\n",
            "9/9 [==============================] - 8s 927ms/step - loss: 0.6507 - accuracy: 0.7102 - val_loss: 0.6782 - val_accuracy: 0.7391\n",
            "Epoch 4/20\n",
            "9/9 [==============================] - 8s 941ms/step - loss: 0.5336 - accuracy: 0.7385 - val_loss: 0.6844 - val_accuracy: 0.7391\n",
            "Epoch 5/20\n",
            "9/9 [==============================] - 9s 1s/step - loss: 0.4900 - accuracy: 0.7597 - val_loss: 0.6735 - val_accuracy: 0.7391\n",
            "Epoch 6/20\n",
            "9/9 [==============================] - 9s 965ms/step - loss: 0.5688 - accuracy: 0.7173 - val_loss: 0.6862 - val_accuracy: 0.7391\n",
            "Epoch 7/20\n",
            "9/9 [==============================] - 8s 927ms/step - loss: 0.5056 - accuracy: 0.7385 - val_loss: 0.6864 - val_accuracy: 0.7391\n",
            "Epoch 8/20\n",
            "9/9 [==============================] - 9s 1s/step - loss: 0.4654 - accuracy: 0.7597 - val_loss: 0.6885 - val_accuracy: 0.7609\n",
            "Epoch 9/20\n",
            "9/9 [==============================] - 9s 943ms/step - loss: 0.5824 - accuracy: 0.7208 - val_loss: 0.6902 - val_accuracy: 0.7391\n",
            "Epoch 10/20\n",
            "9/9 [==============================] - 9s 934ms/step - loss: 0.4341 - accuracy: 0.7633 - val_loss: 0.6892 - val_accuracy: 0.7391\n",
            "Epoch 11/20\n",
            "9/9 [==============================] - 9s 945ms/step - loss: 0.4577 - accuracy: 0.7809 - val_loss: 0.6911 - val_accuracy: 0.7391\n",
            "Epoch 12/20\n",
            "9/9 [==============================] - 9s 935ms/step - loss: 0.4168 - accuracy: 0.8057 - val_loss: 0.6918 - val_accuracy: 0.7609\n",
            "Epoch 13/20\n",
            "9/9 [==============================] - 9s 952ms/step - loss: 0.4139 - accuracy: 0.7915 - val_loss: 0.6920 - val_accuracy: 0.7609\n",
            "Epoch 14/20\n",
            "9/9 [==============================] - 9s 959ms/step - loss: 0.3386 - accuracy: 0.8516 - val_loss: 0.6889 - val_accuracy: 0.7609\n",
            "Epoch 15/20\n",
            "9/9 [==============================] - 9s 960ms/step - loss: 0.3297 - accuracy: 0.8728 - val_loss: 0.6901 - val_accuracy: 0.8043\n",
            "Epoch 16/20\n",
            "9/9 [==============================] - 9s 963ms/step - loss: 0.3610 - accuracy: 0.8339 - val_loss: 0.6857 - val_accuracy: 0.8478\n",
            "Epoch 17/20\n",
            "9/9 [==============================] - 9s 1s/step - loss: 0.4182 - accuracy: 0.8269 - val_loss: 0.6916 - val_accuracy: 0.6304\n",
            "Epoch 18/20\n",
            "9/9 [==============================] - 9s 964ms/step - loss: 0.2722 - accuracy: 0.8834 - val_loss: 0.6892 - val_accuracy: 0.7609\n",
            "Epoch 19/20\n",
            "9/9 [==============================] - 9s 941ms/step - loss: 0.3632 - accuracy: 0.8198 - val_loss: 0.6931 - val_accuracy: 0.4565\n",
            "Epoch 20/20\n",
            "9/9 [==============================] - 9s 960ms/step - loss: 0.3549 - accuracy: 0.8375 - val_loss: 0.6883 - val_accuracy: 0.7826\n",
            "2/2 [==============================] - 0s 88ms/step - loss: 0.6883 - accuracy: 0.7826\n",
            "--- Starting trial: run-9\n",
            "{'num_units': 64, 'dropout': 0.5, 'optimizer': 'adadelta'}\n",
            "Epoch 1/20\n",
            "9/9 [==============================] - 9s 928ms/step - loss: 0.7225 - accuracy: 0.5018 - val_loss: 0.6858 - val_accuracy: 0.6522\n",
            "Epoch 2/20\n",
            "9/9 [==============================] - 8s 915ms/step - loss: 0.6514 - accuracy: 0.6360 - val_loss: 0.6782 - val_accuracy: 0.7391\n",
            "Epoch 3/20\n",
            "9/9 [==============================] - 8s 930ms/step - loss: 0.6105 - accuracy: 0.6926 - val_loss: 0.6744 - val_accuracy: 0.7391\n",
            "Epoch 4/20\n",
            "9/9 [==============================] - 8s 929ms/step - loss: 0.6152 - accuracy: 0.7244 - val_loss: 0.6726 - val_accuracy: 0.7391\n",
            "Epoch 5/20\n",
            "9/9 [==============================] - 9s 978ms/step - loss: 0.6172 - accuracy: 0.7067 - val_loss: 0.6715 - val_accuracy: 0.7391\n",
            "Epoch 6/20\n",
            "9/9 [==============================] - 9s 978ms/step - loss: 0.6100 - accuracy: 0.7279 - val_loss: 0.6699 - val_accuracy: 0.7391\n",
            "Epoch 7/20\n",
            "9/9 [==============================] - 9s 961ms/step - loss: 0.5900 - accuracy: 0.7173 - val_loss: 0.6695 - val_accuracy: 0.7391\n",
            "Epoch 8/20\n",
            "9/9 [==============================] - 9s 936ms/step - loss: 0.5858 - accuracy: 0.7208 - val_loss: 0.6697 - val_accuracy: 0.7391\n",
            "Epoch 9/20\n",
            "9/9 [==============================] - 9s 989ms/step - loss: 0.5924 - accuracy: 0.7279 - val_loss: 0.6699 - val_accuracy: 0.7391\n",
            "Epoch 10/20\n",
            "9/9 [==============================] - 9s 971ms/step - loss: 0.5997 - accuracy: 0.7244 - val_loss: 0.6693 - val_accuracy: 0.7391\n",
            "Epoch 11/20\n",
            "9/9 [==============================] - 8s 920ms/step - loss: 0.5720 - accuracy: 0.7173 - val_loss: 0.6677 - val_accuracy: 0.7391\n",
            "Epoch 12/20\n",
            "9/9 [==============================] - 9s 934ms/step - loss: 0.5739 - accuracy: 0.7350 - val_loss: 0.6667 - val_accuracy: 0.7391\n",
            "Epoch 13/20\n",
            "9/9 [==============================] - 8s 933ms/step - loss: 0.5807 - accuracy: 0.7314 - val_loss: 0.6652 - val_accuracy: 0.7391\n",
            "Epoch 14/20\n",
            "9/9 [==============================] - 8s 923ms/step - loss: 0.5555 - accuracy: 0.7350 - val_loss: 0.6639 - val_accuracy: 0.7391\n",
            "Epoch 15/20\n",
            "9/9 [==============================] - 9s 991ms/step - loss: 0.5653 - accuracy: 0.7208 - val_loss: 0.6622 - val_accuracy: 0.7391\n",
            "Epoch 16/20\n",
            "9/9 [==============================] - 9s 967ms/step - loss: 0.5562 - accuracy: 0.7279 - val_loss: 0.6595 - val_accuracy: 0.7391\n",
            "Epoch 17/20\n",
            "9/9 [==============================] - 9s 964ms/step - loss: 0.5614 - accuracy: 0.7350 - val_loss: 0.6586 - val_accuracy: 0.7391\n",
            "Epoch 18/20\n",
            "9/9 [==============================] - 9s 974ms/step - loss: 0.5509 - accuracy: 0.7350 - val_loss: 0.6565 - val_accuracy: 0.7391\n",
            "Epoch 19/20\n",
            "9/9 [==============================] - 9s 963ms/step - loss: 0.5481 - accuracy: 0.7244 - val_loss: 0.6547 - val_accuracy: 0.7391\n",
            "Epoch 20/20\n",
            "9/9 [==============================] - 8s 925ms/step - loss: 0.5477 - accuracy: 0.7279 - val_loss: 0.6527 - val_accuracy: 0.7391\n",
            "2/2 [==============================] - 0s 103ms/step - loss: 0.6527 - accuracy: 0.7391\n",
            "--- Starting trial: run-10\n",
            "{'num_units': 64, 'dropout': 0.5, 'optimizer': 'adam'}\n",
            "Epoch 1/20\n",
            "9/9 [==============================] - 9s 995ms/step - loss: 1.7835 - accuracy: 0.6290 - val_loss: 0.6800 - val_accuracy: 0.7391\n",
            "Epoch 2/20\n",
            "9/9 [==============================] - 9s 960ms/step - loss: 0.5964 - accuracy: 0.7279 - val_loss: 0.6886 - val_accuracy: 0.7391\n",
            "Epoch 3/20\n",
            "9/9 [==============================] - 8s 896ms/step - loss: 0.5129 - accuracy: 0.7350 - val_loss: 0.6903 - val_accuracy: 0.7391\n",
            "Epoch 4/20\n",
            "9/9 [==============================] - 8s 916ms/step - loss: 0.5133 - accuracy: 0.7420 - val_loss: 0.6915 - val_accuracy: 0.7826\n",
            "Epoch 5/20\n",
            "9/9 [==============================] - 8s 895ms/step - loss: 0.4952 - accuracy: 0.7314 - val_loss: 0.7071 - val_accuracy: 0.2609\n",
            "Epoch 6/20\n",
            "9/9 [==============================] - 8s 898ms/step - loss: 0.5155 - accuracy: 0.7562 - val_loss: 0.7126 - val_accuracy: 0.2609\n",
            "Epoch 7/20\n",
            "9/9 [==============================] - 8s 900ms/step - loss: 0.4698 - accuracy: 0.7774 - val_loss: 0.7303 - val_accuracy: 0.2609\n",
            "Epoch 8/20\n",
            "9/9 [==============================] - 8s 922ms/step - loss: 0.4989 - accuracy: 0.7173 - val_loss: 0.7210 - val_accuracy: 0.2609\n",
            "Epoch 9/20\n",
            "9/9 [==============================] - 8s 898ms/step - loss: 0.4684 - accuracy: 0.7668 - val_loss: 0.7150 - val_accuracy: 0.2609\n",
            "Epoch 10/20\n",
            "9/9 [==============================] - 8s 890ms/step - loss: 0.4296 - accuracy: 0.7986 - val_loss: 0.7356 - val_accuracy: 0.2609\n",
            "Epoch 11/20\n",
            "9/9 [==============================] - 8s 894ms/step - loss: 0.4192 - accuracy: 0.8233 - val_loss: 0.7709 - val_accuracy: 0.2609\n",
            "Epoch 12/20\n",
            "9/9 [==============================] - 8s 904ms/step - loss: 0.3782 - accuracy: 0.8304 - val_loss: 0.7637 - val_accuracy: 0.2609\n",
            "Epoch 13/20\n",
            "9/9 [==============================] - 8s 891ms/step - loss: 0.3393 - accuracy: 0.8304 - val_loss: 0.7007 - val_accuracy: 0.3913\n",
            "Epoch 14/20\n",
            "9/9 [==============================] - 8s 892ms/step - loss: 0.3857 - accuracy: 0.8233 - val_loss: 0.7104 - val_accuracy: 0.3696\n",
            "Epoch 15/20\n",
            "9/9 [==============================] - 8s 888ms/step - loss: 0.4249 - accuracy: 0.8163 - val_loss: 0.7226 - val_accuracy: 0.2609\n",
            "Epoch 16/20\n",
            "9/9 [==============================] - 8s 882ms/step - loss: 0.3065 - accuracy: 0.8799 - val_loss: 0.7187 - val_accuracy: 0.2609\n",
            "Epoch 17/20\n",
            "9/9 [==============================] - 8s 905ms/step - loss: 0.3692 - accuracy: 0.8269 - val_loss: 0.7179 - val_accuracy: 0.3478\n",
            "Epoch 18/20\n",
            "9/9 [==============================] - 8s 883ms/step - loss: 0.3734 - accuracy: 0.8445 - val_loss: 0.6807 - val_accuracy: 0.5652\n",
            "Epoch 19/20\n",
            "9/9 [==============================] - 8s 910ms/step - loss: 0.3245 - accuracy: 0.8481 - val_loss: 0.6370 - val_accuracy: 0.8043\n",
            "Epoch 20/20\n",
            "9/9 [==============================] - 8s 888ms/step - loss: 0.2912 - accuracy: 0.8587 - val_loss: 0.6597 - val_accuracy: 0.8696\n",
            "2/2 [==============================] - 0s 87ms/step - loss: 0.6597 - accuracy: 0.8696\n",
            "--- Starting trial: run-11\n",
            "{'num_units': 64, 'dropout': 0.5, 'optimizer': 'rmsprop'}\n",
            "Epoch 1/20\n",
            "9/9 [==============================] - 9s 914ms/step - loss: 10.3098 - accuracy: 0.5618 - val_loss: 0.6878 - val_accuracy: 0.7391\n",
            "Epoch 2/20\n",
            "9/9 [==============================] - 8s 914ms/step - loss: 0.5786 - accuracy: 0.7314 - val_loss: 0.6870 - val_accuracy: 0.7391\n",
            "Epoch 3/20\n",
            "9/9 [==============================] - 8s 915ms/step - loss: 0.5650 - accuracy: 0.7314 - val_loss: 0.6864 - val_accuracy: 0.7391\n",
            "Epoch 4/20\n",
            "9/9 [==============================] - 8s 906ms/step - loss: 0.5537 - accuracy: 0.7314 - val_loss: 0.6886 - val_accuracy: 0.7391\n",
            "Epoch 5/20\n",
            "9/9 [==============================] - 8s 906ms/step - loss: 0.5605 - accuracy: 0.7385 - val_loss: 0.6888 - val_accuracy: 0.7391\n",
            "Epoch 6/20\n",
            "9/9 [==============================] - 8s 925ms/step - loss: 0.5274 - accuracy: 0.7314 - val_loss: 0.6832 - val_accuracy: 0.7391\n",
            "Epoch 7/20\n",
            "9/9 [==============================] - 8s 918ms/step - loss: 0.5241 - accuracy: 0.7314 - val_loss: 0.6796 - val_accuracy: 0.7391\n",
            "Epoch 8/20\n",
            "9/9 [==============================] - 8s 923ms/step - loss: 0.5213 - accuracy: 0.7314 - val_loss: 0.6886 - val_accuracy: 0.7391\n",
            "Epoch 9/20\n",
            "9/9 [==============================] - 8s 923ms/step - loss: 0.5029 - accuracy: 0.7314 - val_loss: 0.6825 - val_accuracy: 0.7391\n",
            "Epoch 10/20\n",
            "9/9 [==============================] - 8s 932ms/step - loss: 0.4796 - accuracy: 0.7314 - val_loss: 0.6806 - val_accuracy: 0.7391\n",
            "Epoch 11/20\n",
            "9/9 [==============================] - 9s 937ms/step - loss: 0.4551 - accuracy: 0.7491 - val_loss: 0.6872 - val_accuracy: 0.7391\n",
            "Epoch 12/20\n",
            "9/9 [==============================] - 9s 961ms/step - loss: 0.4722 - accuracy: 0.7633 - val_loss: 0.6698 - val_accuracy: 0.7174\n",
            "Epoch 13/20\n",
            "9/9 [==============================] - 8s 920ms/step - loss: 0.5069 - accuracy: 0.7420 - val_loss: 0.6903 - val_accuracy: 0.7174\n",
            "Epoch 14/20\n",
            "9/9 [==============================] - 8s 923ms/step - loss: 0.4425 - accuracy: 0.7739 - val_loss: 0.6954 - val_accuracy: 0.2609\n",
            "Epoch 15/20\n",
            "9/9 [==============================] - 8s 916ms/step - loss: 0.4508 - accuracy: 0.7703 - val_loss: 0.6903 - val_accuracy: 0.5217\n",
            "Epoch 16/20\n",
            "9/9 [==============================] - 8s 924ms/step - loss: 0.4555 - accuracy: 0.7597 - val_loss: 0.6944 - val_accuracy: 0.3696\n",
            "Epoch 17/20\n",
            "9/9 [==============================] - 8s 919ms/step - loss: 0.4129 - accuracy: 0.8021 - val_loss: 0.6855 - val_accuracy: 0.6304\n",
            "Epoch 18/20\n",
            "9/9 [==============================] - 8s 916ms/step - loss: 0.4559 - accuracy: 0.7774 - val_loss: 0.6834 - val_accuracy: 0.7174\n",
            "Epoch 19/20\n",
            "9/9 [==============================] - 8s 926ms/step - loss: 0.3769 - accuracy: 0.8021 - val_loss: 0.6959 - val_accuracy: 0.3478\n",
            "Epoch 20/20\n",
            "9/9 [==============================] - 9s 987ms/step - loss: 0.4423 - accuracy: 0.8057 - val_loss: 0.6982 - val_accuracy: 0.3043\n",
            "2/2 [==============================] - 0s 93ms/step - loss: 0.6982 - accuracy: 0.3043\n",
            "--- Starting trial: run-12\n",
            "{'num_units': 128, 'dropout': 0.2, 'optimizer': 'adadelta'}\n",
            "Epoch 1/20\n",
            "9/9 [==============================] - 9s 980ms/step - loss: 0.6928 - accuracy: 0.5618 - val_loss: 0.6784 - val_accuracy: 0.7391\n",
            "Epoch 2/20\n",
            "9/9 [==============================] - 8s 920ms/step - loss: 0.5951 - accuracy: 0.7385 - val_loss: 0.6742 - val_accuracy: 0.7391\n",
            "Epoch 3/20\n",
            "9/9 [==============================] - 8s 899ms/step - loss: 0.5965 - accuracy: 0.7279 - val_loss: 0.6727 - val_accuracy: 0.7391\n",
            "Epoch 4/20\n",
            "9/9 [==============================] - 8s 904ms/step - loss: 0.5652 - accuracy: 0.7314 - val_loss: 0.6708 - val_accuracy: 0.7391\n",
            "Epoch 5/20\n",
            "9/9 [==============================] - 8s 926ms/step - loss: 0.5723 - accuracy: 0.7314 - val_loss: 0.6699 - val_accuracy: 0.7391\n",
            "Epoch 6/20\n",
            "9/9 [==============================] - 8s 905ms/step - loss: 0.5635 - accuracy: 0.7314 - val_loss: 0.6691 - val_accuracy: 0.7391\n",
            "Epoch 7/20\n",
            "9/9 [==============================] - 8s 933ms/step - loss: 0.5585 - accuracy: 0.7314 - val_loss: 0.6685 - val_accuracy: 0.7391\n",
            "Epoch 8/20\n",
            "9/9 [==============================] - 8s 921ms/step - loss: 0.5491 - accuracy: 0.7314 - val_loss: 0.6672 - val_accuracy: 0.7391\n",
            "Epoch 9/20\n",
            "9/9 [==============================] - 8s 915ms/step - loss: 0.5603 - accuracy: 0.7314 - val_loss: 0.6659 - val_accuracy: 0.7391\n",
            "Epoch 10/20\n",
            "9/9 [==============================] - 8s 906ms/step - loss: 0.5392 - accuracy: 0.7314 - val_loss: 0.6641 - val_accuracy: 0.7391\n",
            "Epoch 11/20\n",
            "9/9 [==============================] - 8s 916ms/step - loss: 0.5521 - accuracy: 0.7314 - val_loss: 0.6641 - val_accuracy: 0.7391\n",
            "Epoch 12/20\n",
            "9/9 [==============================] - 8s 903ms/step - loss: 0.5356 - accuracy: 0.7314 - val_loss: 0.6628 - val_accuracy: 0.7391\n",
            "Epoch 13/20\n",
            "9/9 [==============================] - 8s 900ms/step - loss: 0.5339 - accuracy: 0.7314 - val_loss: 0.6603 - val_accuracy: 0.7391\n",
            "Epoch 14/20\n",
            "9/9 [==============================] - 8s 907ms/step - loss: 0.5336 - accuracy: 0.7350 - val_loss: 0.6582 - val_accuracy: 0.7391\n",
            "Epoch 15/20\n",
            "9/9 [==============================] - 8s 925ms/step - loss: 0.5095 - accuracy: 0.7314 - val_loss: 0.6575 - val_accuracy: 0.7391\n",
            "Epoch 16/20\n",
            "9/9 [==============================] - 8s 912ms/step - loss: 0.5235 - accuracy: 0.7314 - val_loss: 0.6546 - val_accuracy: 0.7391\n",
            "Epoch 17/20\n",
            "9/9 [==============================] - 8s 903ms/step - loss: 0.5228 - accuracy: 0.7350 - val_loss: 0.6517 - val_accuracy: 0.7391\n",
            "Epoch 18/20\n",
            "9/9 [==============================] - 8s 903ms/step - loss: 0.5117 - accuracy: 0.7350 - val_loss: 0.6489 - val_accuracy: 0.7391\n",
            "Epoch 19/20\n",
            "9/9 [==============================] - 8s 922ms/step - loss: 0.5081 - accuracy: 0.7420 - val_loss: 0.6446 - val_accuracy: 0.7391\n",
            "Epoch 20/20\n",
            "9/9 [==============================] - 8s 911ms/step - loss: 0.5088 - accuracy: 0.7385 - val_loss: 0.6432 - val_accuracy: 0.7391\n",
            "2/2 [==============================] - 0s 86ms/step - loss: 0.6432 - accuracy: 0.7391\n",
            "--- Starting trial: run-13\n",
            "{'num_units': 128, 'dropout': 0.2, 'optimizer': 'adam'}\n",
            "Epoch 1/20\n",
            "9/9 [==============================] - 9s 945ms/step - loss: 5.5627 - accuracy: 0.5830 - val_loss: 0.6832 - val_accuracy: 0.7391\n",
            "Epoch 2/20\n",
            "9/9 [==============================] - 8s 926ms/step - loss: 0.7035 - accuracy: 0.7314 - val_loss: 0.6926 - val_accuracy: 0.7391\n",
            "Epoch 3/20\n",
            "9/9 [==============================] - 9s 979ms/step - loss: 0.5496 - accuracy: 0.7314 - val_loss: 0.6916 - val_accuracy: 0.7391\n",
            "Epoch 4/20\n",
            "9/9 [==============================] - 9s 953ms/step - loss: 0.5419 - accuracy: 0.7314 - val_loss: 0.6922 - val_accuracy: 0.7391\n",
            "Epoch 5/20\n",
            "9/9 [==============================] - 9s 938ms/step - loss: 0.5043 - accuracy: 0.7350 - val_loss: 0.6968 - val_accuracy: 0.2609\n",
            "Epoch 6/20\n",
            "9/9 [==============================] - 8s 929ms/step - loss: 0.5037 - accuracy: 0.7279 - val_loss: 0.7018 - val_accuracy: 0.2609\n",
            "Epoch 7/20\n",
            "9/9 [==============================] - 9s 937ms/step - loss: 0.4549 - accuracy: 0.7668 - val_loss: 0.7156 - val_accuracy: 0.2609\n",
            "Epoch 8/20\n",
            "9/9 [==============================] - 9s 980ms/step - loss: 0.4340 - accuracy: 0.7880 - val_loss: 0.7469 - val_accuracy: 0.2609\n",
            "Epoch 9/20\n",
            "9/9 [==============================] - 9s 931ms/step - loss: 0.4238 - accuracy: 0.7668 - val_loss: 0.7719 - val_accuracy: 0.2609\n",
            "Epoch 10/20\n",
            "9/9 [==============================] - 9s 934ms/step - loss: 0.4496 - accuracy: 0.7527 - val_loss: 0.7909 - val_accuracy: 0.2609\n",
            "Epoch 11/20\n",
            "9/9 [==============================] - 9s 944ms/step - loss: 0.3791 - accuracy: 0.8304 - val_loss: 0.7924 - val_accuracy: 0.2609\n",
            "Epoch 12/20\n",
            "9/9 [==============================] - 9s 951ms/step - loss: 0.4133 - accuracy: 0.8198 - val_loss: 0.7722 - val_accuracy: 0.2609\n",
            "Epoch 13/20\n",
            "9/9 [==============================] - 9s 937ms/step - loss: 0.4719 - accuracy: 0.7456 - val_loss: 0.7550 - val_accuracy: 0.2609\n",
            "Epoch 14/20\n",
            "9/9 [==============================] - 9s 936ms/step - loss: 0.4127 - accuracy: 0.7845 - val_loss: 0.7582 - val_accuracy: 0.2609\n",
            "Epoch 15/20\n",
            "9/9 [==============================] - 9s 936ms/step - loss: 0.3991 - accuracy: 0.8057 - val_loss: 0.7562 - val_accuracy: 0.2609\n",
            "Epoch 16/20\n",
            "9/9 [==============================] - 9s 939ms/step - loss: 0.3962 - accuracy: 0.7986 - val_loss: 0.7746 - val_accuracy: 0.2609\n",
            "Epoch 17/20\n",
            "9/9 [==============================] - 9s 935ms/step - loss: 0.3841 - accuracy: 0.7986 - val_loss: 0.8231 - val_accuracy: 0.2609\n",
            "Epoch 18/20\n",
            "9/9 [==============================] - 8s 932ms/step - loss: 0.3962 - accuracy: 0.8021 - val_loss: 0.7681 - val_accuracy: 0.2609\n",
            "Epoch 19/20\n",
            "9/9 [==============================] - 9s 936ms/step - loss: 0.4004 - accuracy: 0.8092 - val_loss: 0.7633 - val_accuracy: 0.2609\n",
            "Epoch 20/20\n",
            "9/9 [==============================] - 9s 967ms/step - loss: 0.4192 - accuracy: 0.7880 - val_loss: 0.7727 - val_accuracy: 0.2609\n",
            "2/2 [==============================] - 0s 94ms/step - loss: 0.7727 - accuracy: 0.2609\n",
            "--- Starting trial: run-14\n",
            "{'num_units': 128, 'dropout': 0.2, 'optimizer': 'rmsprop'}\n",
            "Epoch 1/20\n",
            "9/9 [==============================] - 10s 987ms/step - loss: 12.6281 - accuracy: 0.5159 - val_loss: 0.6894 - val_accuracy: 0.7391\n",
            "Epoch 2/20\n",
            "9/9 [==============================] - 9s 983ms/step - loss: 0.5151 - accuracy: 0.7279 - val_loss: 0.6873 - val_accuracy: 0.7391\n",
            "Epoch 3/20\n",
            "9/9 [==============================] - 9s 971ms/step - loss: 0.5767 - accuracy: 0.6890 - val_loss: 0.6901 - val_accuracy: 0.7391\n",
            "Epoch 4/20\n",
            "9/9 [==============================] - 9s 979ms/step - loss: 0.4797 - accuracy: 0.7562 - val_loss: 0.6879 - val_accuracy: 0.7391\n",
            "Epoch 5/20\n",
            "9/9 [==============================] - 9s 983ms/step - loss: 0.4358 - accuracy: 0.7986 - val_loss: 0.6870 - val_accuracy: 0.7391\n",
            "Epoch 6/20\n",
            "9/9 [==============================] - 9s 1s/step - loss: 0.5356 - accuracy: 0.7456 - val_loss: 0.6955 - val_accuracy: 0.2609\n",
            "Epoch 7/20\n",
            "9/9 [==============================] - 10s 1s/step - loss: 0.4436 - accuracy: 0.7668 - val_loss: 0.6924 - val_accuracy: 0.5217\n",
            "Epoch 8/20\n",
            "9/9 [==============================] - 9s 984ms/step - loss: 0.5323 - accuracy: 0.7385 - val_loss: 0.6927 - val_accuracy: 0.7391\n",
            "Epoch 9/20\n",
            "9/9 [==============================] - 9s 990ms/step - loss: 0.4988 - accuracy: 0.7527 - val_loss: 0.6937 - val_accuracy: 0.2609\n",
            "Epoch 10/20\n",
            "9/9 [==============================] - 9s 971ms/step - loss: 0.4091 - accuracy: 0.8163 - val_loss: 0.6936 - val_accuracy: 0.2609\n",
            "Epoch 11/20\n",
            "9/9 [==============================] - 9s 969ms/step - loss: 0.5092 - accuracy: 0.7633 - val_loss: 0.6932 - val_accuracy: 0.2609\n",
            "Epoch 12/20\n",
            "9/9 [==============================] - 9s 973ms/step - loss: 0.4101 - accuracy: 0.7915 - val_loss: 0.6937 - val_accuracy: 0.2609\n",
            "Epoch 13/20\n",
            "9/9 [==============================] - 9s 985ms/step - loss: 0.4280 - accuracy: 0.7880 - val_loss: 0.6930 - val_accuracy: 0.7391\n",
            "Epoch 14/20\n",
            "9/9 [==============================] - 9s 971ms/step - loss: 0.4635 - accuracy: 0.7915 - val_loss: 0.6926 - val_accuracy: 0.7391\n",
            "Epoch 15/20\n",
            "9/9 [==============================] - 9s 997ms/step - loss: 0.3164 - accuracy: 0.8375 - val_loss: 0.6906 - val_accuracy: 0.8478\n",
            "Epoch 16/20\n",
            "9/9 [==============================] - 9s 978ms/step - loss: 0.3662 - accuracy: 0.8198 - val_loss: 0.6933 - val_accuracy: 0.2609\n",
            "Epoch 17/20\n",
            "9/9 [==============================] - 9s 976ms/step - loss: 0.3009 - accuracy: 0.8940 - val_loss: 0.6936 - val_accuracy: 0.2609\n",
            "Epoch 18/20\n",
            "9/9 [==============================] - 9s 997ms/step - loss: 0.3788 - accuracy: 0.8233 - val_loss: 0.6930 - val_accuracy: 0.4130\n",
            "Epoch 19/20\n",
            "9/9 [==============================] - 9s 977ms/step - loss: 0.3678 - accuracy: 0.8834 - val_loss: 0.6935 - val_accuracy: 0.2609\n",
            "Epoch 20/20\n",
            "9/9 [==============================] - 9s 1s/step - loss: 0.3447 - accuracy: 0.8622 - val_loss: 0.6926 - val_accuracy: 0.7391\n",
            "2/2 [==============================] - 0s 92ms/step - loss: 0.6926 - accuracy: 0.7391\n",
            "--- Starting trial: run-15\n",
            "{'num_units': 128, 'dropout': 0.5, 'optimizer': 'adadelta'}\n",
            "Epoch 1/20\n",
            "9/9 [==============================] - 9s 960ms/step - loss: 0.7691 - accuracy: 0.4664 - val_loss: 0.6773 - val_accuracy: 0.7391\n",
            "Epoch 2/20\n",
            "9/9 [==============================] - 9s 956ms/step - loss: 0.6162 - accuracy: 0.6961 - val_loss: 0.6689 - val_accuracy: 0.7391\n",
            "Epoch 3/20\n",
            "9/9 [==============================] - 9s 950ms/step - loss: 0.6177 - accuracy: 0.7138 - val_loss: 0.6677 - val_accuracy: 0.7391\n",
            "Epoch 4/20\n",
            "9/9 [==============================] - 9s 946ms/step - loss: 0.5894 - accuracy: 0.7244 - val_loss: 0.6649 - val_accuracy: 0.7391\n",
            "Epoch 5/20\n",
            "9/9 [==============================] - 9s 949ms/step - loss: 0.5903 - accuracy: 0.7244 - val_loss: 0.6647 - val_accuracy: 0.7391\n",
            "Epoch 6/20\n",
            "9/9 [==============================] - 9s 970ms/step - loss: 0.5771 - accuracy: 0.7244 - val_loss: 0.6646 - val_accuracy: 0.7391\n",
            "Epoch 7/20\n",
            "9/9 [==============================] - 9s 944ms/step - loss: 0.5654 - accuracy: 0.7279 - val_loss: 0.6643 - val_accuracy: 0.7391\n",
            "Epoch 8/20\n",
            "9/9 [==============================] - 9s 968ms/step - loss: 0.5758 - accuracy: 0.7173 - val_loss: 0.6638 - val_accuracy: 0.7391\n",
            "Epoch 9/20\n",
            "9/9 [==============================] - 9s 960ms/step - loss: 0.5761 - accuracy: 0.7244 - val_loss: 0.6635 - val_accuracy: 0.7391\n",
            "Epoch 10/20\n",
            "9/9 [==============================] - 9s 939ms/step - loss: 0.5699 - accuracy: 0.7314 - val_loss: 0.6617 - val_accuracy: 0.7391\n",
            "Epoch 11/20\n",
            "9/9 [==============================] - 9s 936ms/step - loss: 0.5627 - accuracy: 0.7350 - val_loss: 0.6630 - val_accuracy: 0.7391\n",
            "Epoch 12/20\n",
            "9/9 [==============================] - 9s 959ms/step - loss: 0.5615 - accuracy: 0.7491 - val_loss: 0.6609 - val_accuracy: 0.7391\n",
            "Epoch 13/20\n",
            "9/9 [==============================] - 10s 1s/step - loss: 0.5410 - accuracy: 0.7314 - val_loss: 0.6607 - val_accuracy: 0.7391\n",
            "Epoch 14/20\n",
            "9/9 [==============================] - 9s 994ms/step - loss: 0.5653 - accuracy: 0.7138 - val_loss: 0.6587 - val_accuracy: 0.7391\n",
            "Epoch 15/20\n",
            "9/9 [==============================] - 9s 950ms/step - loss: 0.5299 - accuracy: 0.7350 - val_loss: 0.6566 - val_accuracy: 0.7391\n",
            "Epoch 16/20\n",
            "9/9 [==============================] - 9s 949ms/step - loss: 0.5272 - accuracy: 0.7279 - val_loss: 0.6543 - val_accuracy: 0.7391\n",
            "Epoch 17/20\n",
            "9/9 [==============================] - 9s 952ms/step - loss: 0.5430 - accuracy: 0.7173 - val_loss: 0.6528 - val_accuracy: 0.7391\n",
            "Epoch 18/20\n",
            "9/9 [==============================] - 9s 954ms/step - loss: 0.5497 - accuracy: 0.7420 - val_loss: 0.6508 - val_accuracy: 0.7391\n",
            "Epoch 19/20\n",
            "9/9 [==============================] - 9s 961ms/step - loss: 0.5069 - accuracy: 0.7350 - val_loss: 0.6484 - val_accuracy: 0.7391\n",
            "Epoch 20/20\n",
            "9/9 [==============================] - 9s 945ms/step - loss: 0.5313 - accuracy: 0.7527 - val_loss: 0.6453 - val_accuracy: 0.7391\n",
            "2/2 [==============================] - 0s 92ms/step - loss: 0.6453 - accuracy: 0.7391\n",
            "--- Starting trial: run-16\n",
            "{'num_units': 128, 'dropout': 0.5, 'optimizer': 'adam'}\n",
            "Epoch 1/20\n",
            "9/9 [==============================] - 9s 952ms/step - loss: 4.6957 - accuracy: 0.6537 - val_loss: 0.6234 - val_accuracy: 0.7391\n",
            "Epoch 2/20\n",
            "9/9 [==============================] - 9s 942ms/step - loss: 0.8988 - accuracy: 0.6572 - val_loss: 0.6878 - val_accuracy: 0.5652\n",
            "Epoch 3/20\n",
            "9/9 [==============================] - 9s 957ms/step - loss: 0.6010 - accuracy: 0.7067 - val_loss: 0.6885 - val_accuracy: 0.7609\n",
            "Epoch 4/20\n",
            "9/9 [==============================] - 9s 951ms/step - loss: 0.4963 - accuracy: 0.7597 - val_loss: 0.6932 - val_accuracy: 0.3696\n",
            "Epoch 5/20\n",
            "9/9 [==============================] - 9s 940ms/step - loss: 0.4564 - accuracy: 0.7809 - val_loss: 0.7074 - val_accuracy: 0.2609\n",
            "Epoch 6/20\n",
            "9/9 [==============================] - 9s 942ms/step - loss: 0.4173 - accuracy: 0.7880 - val_loss: 0.7081 - val_accuracy: 0.3043\n",
            "Epoch 7/20\n",
            "9/9 [==============================] - 9s 971ms/step - loss: 0.4002 - accuracy: 0.7915 - val_loss: 0.6987 - val_accuracy: 0.3696\n",
            "Epoch 8/20\n",
            "9/9 [==============================] - 9s 950ms/step - loss: 0.3890 - accuracy: 0.7915 - val_loss: 0.7205 - val_accuracy: 0.2609\n",
            "Epoch 9/20\n",
            "9/9 [==============================] - 9s 978ms/step - loss: 0.3581 - accuracy: 0.8375 - val_loss: 0.7239 - val_accuracy: 0.2609\n",
            "Epoch 10/20\n",
            "9/9 [==============================] - 9s 957ms/step - loss: 0.3353 - accuracy: 0.8339 - val_loss: 0.7303 - val_accuracy: 0.2609\n",
            "Epoch 11/20\n",
            "9/9 [==============================] - 9s 945ms/step - loss: 0.3398 - accuracy: 0.8304 - val_loss: 0.7180 - val_accuracy: 0.2609\n",
            "Epoch 12/20\n",
            "9/9 [==============================] - 9s 944ms/step - loss: 0.3217 - accuracy: 0.8587 - val_loss: 0.6798 - val_accuracy: 0.7609\n",
            "Epoch 13/20\n",
            "9/9 [==============================] - 9s 954ms/step - loss: 0.3817 - accuracy: 0.8021 - val_loss: 0.6764 - val_accuracy: 0.6957\n",
            "Epoch 14/20\n",
            "9/9 [==============================] - 9s 947ms/step - loss: 0.3508 - accuracy: 0.8551 - val_loss: 0.6878 - val_accuracy: 0.6087\n",
            "Epoch 15/20\n",
            "9/9 [==============================] - 9s 937ms/step - loss: 0.2827 - accuracy: 0.8975 - val_loss: 0.6889 - val_accuracy: 0.5435\n",
            "Epoch 16/20\n",
            "9/9 [==============================] - 9s 949ms/step - loss: 0.2939 - accuracy: 0.8657 - val_loss: 0.6811 - val_accuracy: 0.7609\n",
            "Epoch 17/20\n",
            "9/9 [==============================] - 9s 951ms/step - loss: 0.2763 - accuracy: 0.8799 - val_loss: 0.6734 - val_accuracy: 0.8261\n",
            "Epoch 18/20\n",
            "9/9 [==============================] - 9s 948ms/step - loss: 0.2603 - accuracy: 0.8869 - val_loss: 0.6684 - val_accuracy: 0.8261\n",
            "Epoch 19/20\n",
            "9/9 [==============================] - 9s 941ms/step - loss: 0.2521 - accuracy: 0.8975 - val_loss: 0.6656 - val_accuracy: 0.8261\n",
            "Epoch 20/20\n",
            "9/9 [==============================] - 9s 957ms/step - loss: 0.2312 - accuracy: 0.9117 - val_loss: 0.6666 - val_accuracy: 0.8261\n",
            "2/2 [==============================] - 0s 94ms/step - loss: 0.6666 - accuracy: 0.8261\n",
            "--- Starting trial: run-17\n",
            "{'num_units': 128, 'dropout': 0.5, 'optimizer': 'rmsprop'}\n",
            "Epoch 1/20\n",
            "9/9 [==============================] - 9s 968ms/step - loss: 10.2269 - accuracy: 0.6148 - val_loss: 0.6924 - val_accuracy: 0.6957\n",
            "Epoch 2/20\n",
            "9/9 [==============================] - 9s 988ms/step - loss: 0.5097 - accuracy: 0.7491 - val_loss: 0.6914 - val_accuracy: 0.8043\n",
            "Epoch 3/20\n",
            "9/9 [==============================] - 9s 1s/step - loss: 0.6056 - accuracy: 0.7102 - val_loss: 0.6939 - val_accuracy: 0.3261\n",
            "Epoch 4/20\n",
            "9/9 [==============================] - 9s 967ms/step - loss: 0.5896 - accuracy: 0.6961 - val_loss: 0.6936 - val_accuracy: 0.2826\n",
            "Epoch 5/20\n",
            "9/9 [==============================] - 9s 975ms/step - loss: 0.5281 - accuracy: 0.7385 - val_loss: 0.6943 - val_accuracy: 0.2609\n",
            "Epoch 6/20\n",
            "9/9 [==============================] - 9s 943ms/step - loss: 0.5584 - accuracy: 0.7456 - val_loss: 0.6969 - val_accuracy: 0.2609\n",
            "Epoch 7/20\n",
            "9/9 [==============================] - 9s 970ms/step - loss: 0.6140 - accuracy: 0.7244 - val_loss: 0.6927 - val_accuracy: 0.7391\n",
            "Epoch 8/20\n",
            "9/9 [==============================] - 9s 1s/step - loss: 0.5253 - accuracy: 0.7350 - val_loss: 0.6941 - val_accuracy: 0.2609\n",
            "Epoch 9/20\n",
            "9/9 [==============================] - 9s 1s/step - loss: 0.5632 - accuracy: 0.7456 - val_loss: 0.6906 - val_accuracy: 0.7391\n",
            "Epoch 10/20\n",
            "9/9 [==============================] - 9s 989ms/step - loss: 0.5384 - accuracy: 0.7456 - val_loss: 0.6899 - val_accuracy: 0.7391\n",
            "Epoch 11/20\n",
            "9/9 [==============================] - 9s 1s/step - loss: 0.5067 - accuracy: 0.7845 - val_loss: 0.6910 - val_accuracy: 0.7391\n",
            "Epoch 12/20\n",
            "9/9 [==============================] - 9s 1s/step - loss: 0.4574 - accuracy: 0.7845 - val_loss: 0.6885 - val_accuracy: 0.7609\n",
            "Epoch 13/20\n",
            "9/9 [==============================] - 10s 1s/step - loss: 0.5076 - accuracy: 0.7845 - val_loss: 0.6930 - val_accuracy: 0.5870\n",
            "Epoch 14/20\n",
            "9/9 [==============================] - 9s 1s/step - loss: 0.4327 - accuracy: 0.7880 - val_loss: 0.6890 - val_accuracy: 0.7391\n",
            "Epoch 15/20\n",
            "9/9 [==============================] - 9s 1s/step - loss: 0.5074 - accuracy: 0.8021 - val_loss: 0.6930 - val_accuracy: 0.7174\n",
            "Epoch 16/20\n",
            "9/9 [==============================] - 9s 987ms/step - loss: 0.6015 - accuracy: 0.7703 - val_loss: 0.6889 - val_accuracy: 0.7391\n",
            "Epoch 17/20\n",
            "9/9 [==============================] - 9s 1s/step - loss: 0.4154 - accuracy: 0.8269 - val_loss: 0.6828 - val_accuracy: 0.7609\n",
            "Epoch 18/20\n",
            "9/9 [==============================] - 9s 988ms/step - loss: 0.3579 - accuracy: 0.8198 - val_loss: 0.6622 - val_accuracy: 0.7391\n",
            "Epoch 19/20\n",
            "9/9 [==============================] - 9s 966ms/step - loss: 0.4873 - accuracy: 0.7703 - val_loss: 0.6867 - val_accuracy: 0.6739\n",
            "Epoch 20/20\n",
            "9/9 [==============================] - 9s 939ms/step - loss: 0.4102 - accuracy: 0.8233 - val_loss: 0.6888 - val_accuracy: 0.7391\n",
            "2/2 [==============================] - 0s 95ms/step - loss: 0.6888 - accuracy: 0.7391\n"
          ]
        }
      ]
    },
    {
      "cell_type": "code",
      "metadata": {
        "id": "-PNlUclAazHS"
      },
      "source": [
        "import zipfile\n",
        "\n",
        "hparams_demo_logs = zipfile.ZipFile('hparams_demo_logs.zip', 'r')\n",
        "hparams_demo_logs.extractall('logs/hparam_demo.zip')\n",
        "\n",
        "hparams_demo_logs.close()"
      ],
      "execution_count": null,
      "outputs": []
    },
    {
      "cell_type": "code",
      "metadata": {
        "colab": {
          "base_uri": "https://localhost:8080/",
          "height": 839
        },
        "id": "_QdIOfUHcPpv",
        "outputId": "69fe9251-fb0c-487e-b9d0-6ba736da15f8"
      },
      "source": [
        "%tensorboard --logdir logs/hparam_tuning"
      ],
      "execution_count": null,
      "outputs": [
        {
          "output_type": "display_data",
          "data": {
            "text/plain": [
              "Reusing TensorBoard on port 6006 (pid 3516), started 0:01:10 ago. (Use '!kill 3516' to kill it.)"
            ]
          },
          "metadata": {}
        },
        {
          "output_type": "display_data",
          "data": {
            "text/plain": [
              "<IPython.core.display.HTML object>"
            ],
            "text/html": [
              "\n",
              "      <iframe id=\"tensorboard-frame-98730a1b7f8b0547\" width=\"100%\" height=\"800\" frameborder=\"0\">\n",
              "      </iframe>\n",
              "      <script>\n",
              "        (function() {\n",
              "          const frame = document.getElementById(\"tensorboard-frame-98730a1b7f8b0547\");\n",
              "          const url = new URL(\"/\", window.location);\n",
              "          const port = 6006;\n",
              "          if (port) {\n",
              "            url.port = port;\n",
              "          }\n",
              "          frame.src = url;\n",
              "        })();\n",
              "      </script>\n",
              "    "
            ]
          },
          "metadata": {}
        }
      ]
    },
    {
      "cell_type": "code",
      "metadata": {
        "id": "_paLQ_pxwYMb"
      },
      "source": [
        ""
      ],
      "execution_count": null,
      "outputs": []
    }
  ]
}